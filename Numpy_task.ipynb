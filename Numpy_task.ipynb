{
 "cells": [
  {
   "cell_type": "markdown",
   "metadata": {},
   "source": [
    "# Numpy\n",
    "\n"
   ]
  },
  {
   "cell_type": "markdown",
   "metadata": {},
   "source": [
    "#### 1. Import the numpy package under the name `np` (★☆☆) \n",
    "(**hint**: import … as …)"
   ]
  },
  {
   "cell_type": "code",
   "execution_count": null,
   "metadata": {
    "collapsed": true
   },
   "outputs": [],
   "source": [
    "import numpy as np"
   ]
  },
  {
   "cell_type": "markdown",
   "metadata": {},
   "source": [
    "#### 2. Print the numpy version and the configuration (★☆☆) \n",
    "(**hint**: np.\\_\\_version\\_\\_, np.show\\_config)"
   ]
  },
  {
   "cell_type": "code",
   "execution_count": null,
   "metadata": {},
   "outputs": [],
   "source": [
    "print(np.__version__, np.show_config)"
   ]
  },
  {
   "cell_type": "markdown",
   "metadata": {},
   "source": [
    "#### 3. Create a null vector of size 10 (★☆☆) \n",
    "(**hint**: np.zeros)"
   ]
  },
  {
   "cell_type": "code",
   "execution_count": 7,
   "metadata": {},
   "outputs": [],
   "source": [
    "x=np.zeros(10)"
   ]
  },
  {
   "cell_type": "markdown",
   "metadata": {},
   "source": [
    "#### 4.  How to find the memory size of any array (★☆☆) \n",
    "(**hint**: size, itemsize)"
   ]
  },
  {
   "cell_type": "code",
   "execution_count": 8,
   "metadata": {},
   "outputs": [
    {
     "name": "stdout",
     "output_type": "stream",
     "text": [
      "10 8\n"
     ]
    }
   ],
   "source": [
    "import numpy as np\n",
    "x=np.zeros(10)\n",
    "print(x.size,x.itemsize)"
   ]
  },
  {
   "cell_type": "markdown",
   "metadata": {},
   "source": [
    "#### 5.  How to get the documentation of the numpy add function from the command line? (★☆☆) \n",
    "(**hint**: np.info)"
   ]
  },
  {
   "cell_type": "code",
   "execution_count": 10,
   "metadata": {},
   "outputs": [
    {
     "name": "stdout",
     "output_type": "stream",
     "text": [
      "add(x1, x2, /, out=None, *, where=True, casting='same_kind', order='K', dtype=None, subok=True[, signature, extobj])\n",
      "\n",
      "Add arguments element-wise.\n",
      "\n",
      "Parameters\n",
      "----------\n",
      "x1, x2 : array_like\n",
      "    The arrays to be added.\n",
      "    If ``x1.shape != x2.shape``, they must be broadcastable to a common\n",
      "    shape (which becomes the shape of the output).\n",
      "out : ndarray, None, or tuple of ndarray and None, optional\n",
      "    A location into which the result is stored. If provided, it must have\n",
      "    a shape that the inputs broadcast to. If not provided or None,\n",
      "    a freshly-allocated array is returned. A tuple (possible only as a\n",
      "    keyword argument) must have length equal to the number of outputs.\n",
      "where : array_like, optional\n",
      "    This condition is broadcast over the input. At locations where the\n",
      "    condition is True, the `out` array will be set to the ufunc result.\n",
      "    Elsewhere, the `out` array will retain its original value.\n",
      "    Note that if an uninitialized `out` array is created via the default\n",
      "    ``out=None``, locations within it where the condition is False will\n",
      "    remain uninitialized.\n",
      "**kwargs\n",
      "    For other keyword-only arguments, see the\n",
      "    :ref:`ufunc docs <ufuncs.kwargs>`.\n",
      "\n",
      "Returns\n",
      "-------\n",
      "add : ndarray or scalar\n",
      "    The sum of `x1` and `x2`, element-wise.\n",
      "    This is a scalar if both `x1` and `x2` are scalars.\n",
      "\n",
      "Notes\n",
      "-----\n",
      "Equivalent to `x1` + `x2` in terms of array broadcasting.\n",
      "\n",
      "Examples\n",
      "--------\n",
      ">>> np.add(1.0, 4.0)\n",
      "5.0\n",
      ">>> x1 = np.arange(9.0).reshape((3, 3))\n",
      ">>> x2 = np.arange(3.0)\n",
      ">>> np.add(x1, x2)\n",
      "array([[  0.,   2.,   4.],\n",
      "       [  3.,   5.,   7.],\n",
      "       [  6.,   8.,  10.]])\n",
      "\n",
      "The ``+`` operator can be used as a shorthand for ``np.add`` on ndarrays.\n",
      "\n",
      ">>> x1 = np.arange(9.0).reshape((3, 3))\n",
      ">>> x2 = np.arange(3.0)\n",
      ">>> x1 + x2\n",
      "array([[ 0.,  2.,  4.],\n",
      "       [ 3.,  5.,  7.],\n",
      "       [ 6.,  8., 10.]])\n",
      "None\n"
     ]
    }
   ],
   "source": [
    "print(np.info(np.add))"
   ]
  },
  {
   "cell_type": "markdown",
   "metadata": {},
   "source": [
    "#### 6.  Create a null vector of size 10 but the fifth value which is 1 (★☆☆) \n",
    "(**hint**: array\\[4\\])"
   ]
  },
  {
   "cell_type": "code",
   "execution_count": null,
   "metadata": {},
   "outputs": [],
   "source": [
    "x=np.zeros(10)\n",
    "x[4]=1"
   ]
  },
  {
   "cell_type": "markdown",
   "metadata": {},
   "source": [
    "#### 7.  Create a vector with values ranging from 10 to 49 (★☆☆) \n",
    "(**hint**: np.arange)"
   ]
  },
  {
   "cell_type": "code",
   "execution_count": 13,
   "metadata": {},
   "outputs": [
    {
     "name": "stdout",
     "output_type": "stream",
     "text": [
      "[10 11 12 13 14 15 16 17 18 19 20 21 22 23 24 25 26 27 28 29 30 31 32 33\n",
      " 34 35 36 37 38 39 40 41 42 43 44 45 46 47 48]\n"
     ]
    }
   ],
   "source": [
    "x=np.arange(start=10,stop=49,step=1)\n",
    "print(x)"
   ]
  },
  {
   "cell_type": "markdown",
   "metadata": {},
   "source": [
    "#### 8.  Reverse a vector (first element becomes last) (★☆☆) \n",
    "(**hint**: array\\[::-1\\])"
   ]
  },
  {
   "cell_type": "code",
   "execution_count": 14,
   "metadata": {},
   "outputs": [
    {
     "name": "stdout",
     "output_type": "stream",
     "text": [
      "[48 47 46 45 44 43 42 41 40 39 38 37 36 35 34 33 32 31 30 29 28 27 26 25\n",
      " 24 23 22 21 20 19 18 17 16 15 14 13 12 11 10]\n"
     ]
    }
   ],
   "source": [
    "print(x[::-1])"
   ]
  },
  {
   "cell_type": "markdown",
   "metadata": {},
   "source": [
    "#### 9.  Create a 3x3 matrix with values ranging from 0 to 8 (★☆☆) \n",
    "(**hint**: reshape)"
   ]
  },
  {
   "cell_type": "code",
   "execution_count": 17,
   "metadata": {},
   "outputs": [
    {
     "name": "stdout",
     "output_type": "stream",
     "text": [
      "[[0 1 2]\n",
      " [3 4 5]\n",
      " [6 7 8]]\n"
     ]
    }
   ],
   "source": [
    "x=np.array([0,1,2,3,4,5,6,7,8])\n",
    "print(x.reshape(3, 3))"
   ]
  },
  {
   "cell_type": "markdown",
   "metadata": {},
   "source": [
    "#### 10. Find indices of non-zero elements from \\[1,2,0,0,4,0\\] (★☆☆) \n",
    "(**hint**: np.nonzero)"
   ]
  },
  {
   "cell_type": "code",
   "execution_count": 21,
   "metadata": {},
   "outputs": [
    {
     "name": "stdout",
     "output_type": "stream",
     "text": [
      "(array([0, 1, 4], dtype=int64),)\n"
     ]
    }
   ],
   "source": [
    "print(np.nonzero([1,2,0,0,4,0]))"
   ]
  },
  {
   "cell_type": "markdown",
   "metadata": {},
   "source": [
    "#### 11. Create a 3x3 identity matrix (★☆☆) \n",
    "(**hint**: np.eye)"
   ]
  },
  {
   "cell_type": "code",
   "execution_count": 36,
   "metadata": {},
   "outputs": [
    {
     "name": "stdout",
     "output_type": "stream",
     "text": [
      "[[1. 0. 0.]\n",
      " [0. 1. 0.]\n",
      " [0. 0. 1.]]\n"
     ]
    }
   ],
   "source": [
    "print(np.eye(3,3))"
   ]
  },
  {
   "cell_type": "markdown",
   "metadata": {},
   "source": [
    "#### 12. Create a 3x3x3 array with random values (★☆☆) \n",
    "(**hint**: np.random.random)"
   ]
  },
  {
   "cell_type": "code",
   "execution_count": 24,
   "metadata": {},
   "outputs": [
    {
     "name": "stdout",
     "output_type": "stream",
     "text": [
      "[[[0.17921233 0.96286572 0.20814686]\n",
      "  [0.32248748 0.10806752 0.61325643]\n",
      "  [0.14322269 0.83683649 0.92198803]]\n",
      "\n",
      " [[0.1793703  0.44323295 0.81680507]\n",
      "  [0.55581818 0.78730957 0.34030028]\n",
      "  [0.11616162 0.5547444  0.82861139]]\n",
      "\n",
      " [[0.25538465 0.96304388 0.04414914]\n",
      "  [0.865886   0.17142268 0.84656302]\n",
      "  [0.64521393 0.75050807 0.19566769]]]\n"
     ]
    }
   ],
   "source": [
    "print(np.random.random((3,3,3,)))"
   ]
  },
  {
   "cell_type": "markdown",
   "metadata": {},
   "source": [
    "#### 13. Create a 10x10 array with random values and find the minimum and maximum values (★☆☆) \n",
    "(**hint**: min, max)"
   ]
  },
  {
   "cell_type": "code",
   "execution_count": 26,
   "metadata": {},
   "outputs": [
    {
     "name": "stdout",
     "output_type": "stream",
     "text": [
      "[[0.85584195 0.98009483 0.4208689  0.19416522 0.79137012 0.3737904\n",
      "  0.97672327 0.03346651 0.48362246 0.10824035]\n",
      " [0.3161949  0.70449386 0.72024791 0.47752311 0.18000078 0.54043266\n",
      "  0.02859718 0.59087992 0.29041254 0.33263615]\n",
      " [0.00119224 0.91108706 0.96163237 0.49016924 0.71173391 0.58278868\n",
      "  0.15993905 0.01592523 0.71795334 0.57574272]\n",
      " [0.3702825  0.78336061 0.34325041 0.75726202 0.02303173 0.8229282\n",
      "  0.781016   0.66353263 0.91729857 0.57306892]\n",
      " [0.39893977 0.23521225 0.49583284 0.78585449 0.30043005 0.39512366\n",
      "  0.53111126 0.95097494 0.52194998 0.1576172 ]\n",
      " [0.07057302 0.58509823 0.4457157  0.16310552 0.32890817 0.76039426\n",
      "  0.37666175 0.41204561 0.27896316 0.05554223]\n",
      " [0.64128485 0.52773888 0.7842776  0.40480363 0.21793052 0.83738863\n",
      "  0.88189144 0.7513516  0.67730188 0.97750924]\n",
      " [0.00716173 0.92761166 0.53268496 0.80973445 0.0155283  0.98026531\n",
      "  0.53300759 0.56293743 0.73108114 0.93324481]\n",
      " [0.19466717 0.68794037 0.3511865  0.18541461 0.61710333 0.8832019\n",
      "  0.88778816 0.27504538 0.17938628 0.38083156]\n",
      " [0.80003539 0.2423557  0.89384295 0.51301    0.64924602 0.36802271\n",
      "  0.87973093 0.18748477 0.54664677 0.44277396]]\n",
      "0.001192238875738716 0.9802653119712282\n"
     ]
    }
   ],
   "source": [
    "x=np.random.random((10,10))\n",
    "print(x)\n",
    "print(x.min(),x.max())"
   ]
  },
  {
   "cell_type": "markdown",
   "metadata": {},
   "source": [
    "#### 14. Create a random vector of size 30 and find the mean value (★☆☆) \n",
    "(**hint**: mean)"
   ]
  },
  {
   "cell_type": "code",
   "execution_count": 39,
   "metadata": {},
   "outputs": [
    {
     "name": "stdout",
     "output_type": "stream",
     "text": [
      "0.4839635060556698\n"
     ]
    }
   ],
   "source": [
    "x = np.random.random(30)\n",
    "print(x.mean())"
   ]
  },
  {
   "cell_type": "markdown",
   "metadata": {},
   "source": [
    "#### 15. Create a 2d array with 1 on the border and 0 inside (★☆☆) \n",
    "(**hint**: array\\[1:-1, 1:-1\\])"
   ]
  },
  {
   "cell_type": "code",
   "execution_count": 32,
   "metadata": {},
   "outputs": [
    {
     "name": "stdout",
     "output_type": "stream",
     "text": [
      "[[1 1 1]\n",
      " [1 0 1]\n",
      " [1 1 1]]\n",
      "[[1 1 1]\n",
      " [1 0 1]\n",
      " [1 1 1]]\n"
     ]
    }
   ],
   "source": [
    "n=3\n",
    "border_array = np.ones((n, n), dtype = int)\n",
    "border_array[1:-1, 1:-1] = 0\n",
    "print(border_array)\n",
    "x=np.array([1,1,1,1,0,1,1,1,1,])\n",
    "print(x.reshape(3,3))"
   ]
  },
  {
   "cell_type": "markdown",
   "metadata": {},
   "source": [
    "#### 16. How to add a border (filled with 0's) around an existing array? (★☆☆) \n",
    "(**hint**: np.pad)"
   ]
  },
  {
   "cell_type": "code",
   "execution_count": 46,
   "metadata": {},
   "outputs": [
    {
     "name": "stdout",
     "output_type": "stream",
     "text": [
      "[0 0 0 1 1 1 1 0 0 0]\n"
     ]
    }
   ],
   "source": [
    "array=[1,1,1,1]\n",
    "print(np.pad(array, (3,3), 'constant', constant_values=(0)))"
   ]
  },
  {
   "cell_type": "markdown",
   "metadata": {},
   "source": [
    "#### 17. What is the result of the following expression? (★☆☆) \n",
    "(**hint**: NaN = not a number, inf = infinity)"
   ]
  },
  {
   "cell_type": "markdown",
   "metadata": {},
   "source": [
    "```python\n",
    "0 * np.nan\n",
    "np.nan == np.nan\n",
    "np.inf > np.nan\n",
    "np.nan - np.nan\n",
    "0.3 == 3 * 0.1\n",
    "```"
   ]
  },
  {
   "cell_type": "code",
   "execution_count": 47,
   "metadata": {},
   "outputs": [
    {
     "name": "stdout",
     "output_type": "stream",
     "text": [
      "nan\n",
      "False\n",
      "False\n",
      "nan\n",
      "False\n"
     ]
    }
   ],
   "source": [
    "print(0 * np.nan)\n",
    "print(np.nan == np.nan)\n",
    "print(np.inf > np.nan)\n",
    "print(np.nan - np.nan)\n",
    "print(0.3 == 3 * 0.1)"
   ]
  },
  {
   "cell_type": "markdown",
   "metadata": {},
   "source": [
    "#### 18. Create a 5x5 matrix with values 1,2,3,4 just below the diagonal (★☆☆) \n",
    "(**hint**: np.diag)"
   ]
  },
  {
   "cell_type": "code",
   "execution_count": 49,
   "metadata": {},
   "outputs": [
    {
     "name": "stdout",
     "output_type": "stream",
     "text": [
      "[[0 0 0 0 0 0]\n",
      " [0 0 0 0 0 0]\n",
      " [1 0 0 0 0 0]\n",
      " [0 2 0 0 0 0]\n",
      " [0 0 3 0 0 0]\n",
      " [0 0 0 4 0 0]]\n"
     ]
    }
   ],
   "source": [
    "a = np.array([1,2,3,4])\n",
    "print(np.diag(a,-1))"
   ]
  },
  {
   "cell_type": "markdown",
   "metadata": {},
   "source": [
    "#### 19. Create a 8x8 matrix and fill it with a checkerboard pattern (★☆☆) \n",
    "(**hint**: array\\[::2\\])"
   ]
  },
  {
   "cell_type": "code",
   "execution_count": 57,
   "metadata": {},
   "outputs": [
    {
     "name": "stdout",
     "output_type": "stream",
     "text": [
      "0 1 0 1 0 1 0 1 \n",
      "1 0 1 0 1 0 1 0 \n",
      "0 1 0 1 0 1 0 1 \n",
      "1 0 1 0 1 0 1 0 \n",
      "0 1 0 1 0 1 0 1 \n",
      "1 0 1 0 1 0 1 0 \n",
      "0 1 0 1 0 1 0 1 \n",
      "1 0 1 0 1 0 1 0 \n"
     ]
    }
   ],
   "source": [
    "x = np.zeros((8,8),dtype=int)\n",
    "x[1::2, ::2] = 1\n",
    "x[::2,1::2] = 1\n",
    "for i in range(8):\n",
    "        for j in range(8):\n",
    "            print(x[i][j], end =\" \") \n",
    "        print() "
   ]
  },
  {
   "cell_type": "markdown",
   "metadata": {},
   "source": [
    "#### 20. Consider a (6,7,8) shape array, what is the index (x,y,z) of the 100th element? \n",
    "(**hint**: np.unravel_index)"
   ]
  },
  {
   "cell_type": "code",
   "execution_count": 58,
   "metadata": {},
   "outputs": [
    {
     "name": "stdout",
     "output_type": "stream",
     "text": [
      "(1, 5, 4)\n"
     ]
    }
   ],
   "source": [
    "print(np.unravel_index(100,(6,7,8)))"
   ]
  },
  {
   "cell_type": "markdown",
   "metadata": {},
   "source": [
    "#### 21. Create a checkerboard 8x8 matrix using the tile function (★☆☆) \n",
    "(**hint**: np.tile)"
   ]
  },
  {
   "cell_type": "code",
   "execution_count": 17,
   "metadata": {},
   "outputs": [
    {
     "name": "stdout",
     "output_type": "stream",
     "text": [
      "[1. 0. 1. 0. 1. 0. 1. 0. 0. 1. 0. 1. 0. 1. 0. 1. 1. 0. 1. 0. 1. 0. 1. 0.\n",
      " 0. 1. 0. 1. 0. 1. 0. 1. 1. 0. 1. 0. 1. 0. 1. 0. 0. 1. 0. 1. 0. 1. 0. 1.\n",
      " 1. 0. 1. 0. 1. 0. 1. 0. 0. 1. 0. 1. 0. 1. 0. 1.]\n",
      "[[1. 0. 1. 0. 1. 0. 1. 0.]\n",
      " [0. 1. 0. 1. 0. 1. 0. 1.]\n",
      " [1. 0. 1. 0. 1. 0. 1. 0.]\n",
      " [0. 1. 0. 1. 0. 1. 0. 1.]\n",
      " [1. 0. 1. 0. 1. 0. 1. 0.]\n",
      " [0. 1. 0. 1. 0. 1. 0. 1.]\n",
      " [1. 0. 1. 0. 1. 0. 1. 0.]\n",
      " [0. 1. 0. 1. 0. 1. 0. 1.]]\n"
     ]
    }
   ],
   "source": [
    "import numpy as np\n",
    "n = 8\n",
    "x=[1,0]\n",
    "y=[0,1]\n",
    "array=[]\n",
    "for i in range(n):\n",
    "    if i%2==0:\n",
    "        array=np.concatenate((array,np.tile(x,4)))\n",
    "    else:\n",
    "        array=np.concatenate((array,np.tile(y,4)))\n",
    "print(array)\n",
    "print(np.reshape(array, (8, 8)))"
   ]
  },
  {
   "cell_type": "markdown",
   "metadata": {},
   "source": [
    "#### 22. Normalize a 5x5 random matrix (★☆☆) \n",
    "(**hint**: (x - min) / (max - min))"
   ]
  },
  {
   "cell_type": "code",
   "execution_count": 19,
   "metadata": {},
   "outputs": [
    {
     "name": "stdout",
     "output_type": "stream",
     "text": [
      "[[0.91868694 0.28749163 0.33380754]\n",
      " [0.71146084 0.51820613 0.42817522]\n",
      " [0.86318682 0.30910707 0.56660969]]\n",
      "[[1.         0.         0.0733781 ]\n",
      " [0.67169259 0.36551999 0.22288441]\n",
      " [0.9120714  0.03424525 0.44220554]]\n"
     ]
    }
   ],
   "source": [
    "x= np.random.random((3,3))\n",
    "print(x)\n",
    "xmax, xmin = x.max(), x.min()\n",
    "x = (x - xmin)/(xmax - xmin)\n",
    "print(x)"
   ]
  },
  {
   "cell_type": "markdown",
   "metadata": {},
   "source": [
    "#### 23. Create a custom dtype that describes a color as four unsigned bytes (RGBA) (★☆☆) \n",
    "(**hint**: np.dtype)"
   ]
  },
  {
   "cell_type": "code",
   "execution_count": 20,
   "metadata": {},
   "outputs": [
    {
     "name": "stdout",
     "output_type": "stream",
     "text": [
      "1\n"
     ]
    },
    {
     "data": {
      "text/plain": [
       "numpy.ndarray"
      ]
     },
     "execution_count": 20,
     "metadata": {},
     "output_type": "execute_result"
    }
   ],
   "source": [
    "RGBA = np.dtype([('red',np.uint8),('green',np.uint8),('blue',np.uint8),('alpha',np.uint8)])\n",
    "color = np.array((1,2,4,3),dtype = RGBA)\n",
    "print(color['red'])\n",
    "type(color)"
   ]
  },
  {
   "cell_type": "markdown",
   "metadata": {},
   "source": [
    "#### 24. Multiply a 5x3 matrix by a 3x2 matrix (real matrix product) (★☆☆) \n",
    "(**hint**: np.dot | @)"
   ]
  },
  {
   "cell_type": "code",
   "execution_count": 25,
   "metadata": {},
   "outputs": [
    {
     "name": "stdout",
     "output_type": "stream",
     "text": [
      "[[0.32948062 0.11750042 0.09267603]\n",
      " [0.55638499 0.68286192 0.11891684]\n",
      " [0.27044412 0.83976014 0.99031793]\n",
      " [0.40701886 0.82844726 0.47383219]\n",
      " [0.56781723 0.96590767 0.04119956]]\n",
      "[[0.1059698  0.15895416]\n",
      " [0.77087013 0.78401467]\n",
      " [0.69074251 0.2004418 ]]\n",
      "[[0.18950784 0.16307052]\n",
      " [0.66749879 0.64764937]\n",
      " [1.36005962 0.89987359]\n",
      " [1.009053   0.80918792]\n",
      " [0.83321914 0.85580081]]\n"
     ]
    }
   ],
   "source": [
    "arr1 = np.random.random((5,3))\n",
    "arr2 = np.random.random((3,2))\n",
    "print(arr1)\n",
    "print(arr2)\n",
    "print(np.dot(arr1,arr2))"
   ]
  },
  {
   "cell_type": "markdown",
   "metadata": {},
   "source": [
    "#### 25. Given a 1D array, negate all elements which are between 3 and 8, in place. (★☆☆) \n",
    "(**hint**: >, <=)"
   ]
  },
  {
   "cell_type": "code",
   "execution_count": 33,
   "metadata": {},
   "outputs": [
    {
     "name": "stdout",
     "output_type": "stream",
     "text": [
      "[ 0.04072879  0.81663299  0.31284167 -0.58227865 -0.96063189 -0.36108878\n",
      " -0.2927493   0.02306121  0.75887561  0.16639582]\n"
     ]
    }
   ],
   "source": [
    "a = np.random.random(size=10)\n",
    "a[3:7] = np.negative(a[3:7])\n",
    "print(a)"
   ]
  },
  {
   "cell_type": "markdown",
   "metadata": {},
   "source": [
    "#### 26. What is the output of the following script? (★☆☆) \n",
    "(**hint**: np.sum)"
   ]
  },
  {
   "cell_type": "markdown",
   "metadata": {},
   "source": [
    "```python\n",
    "# Author: Jake VanderPlas\n",
    "\n",
    "print(sum(range(5),-1))\n",
    "from numpy import *\n",
    "print(sum(range(5),-1))\n",
    "```"
   ]
  },
  {
   "cell_type": "code",
   "execution_count": 37,
   "metadata": {},
   "outputs": [
    {
     "name": "stdout",
     "output_type": "stream",
     "text": [
      "10\n",
      "10\n"
     ]
    }
   ],
   "source": [
    "print(sum(range(5),-1))\n",
    "from numpy import *\n",
    "print(sum(range(5),-1))"
   ]
  },
  {
   "cell_type": "markdown",
   "metadata": {},
   "source": [
    "#### 27. Consider an integer vector Z, which of these expressions are legal? (★☆☆)"
   ]
  },
  {
   "cell_type": "markdown",
   "metadata": {},
   "source": [
    "```python\n",
    "Z**Z\n",
    "2 << Z >> 2\n",
    "Z <- Z\n",
    "1j*Z\n",
    "Z/1/1\n",
    "Z<Z>Z\n",
    "```"
   ]
  },
  {
   "cell_type": "code",
   "execution_count": 39,
   "metadata": {},
   "outputs": [
    {
     "name": "stdout",
     "output_type": "stream",
     "text": [
      "['0b0', '0b1', '0b10', '0b100', '0b1000', '0b10000', '0b100000', '0b1000000', '0b10000000', '0b100000000']\n",
      "['0b10', '0b100', '0b1000', '0b100000', '0b1000000000', '0b100000000000000000', '0b0', '0b0', '0b0', '0b0']\n",
      "['0b0', '0b1', '0b10', '0b100', '0b1000', '0b10000', '0b100000', '0b1000000', '0b10000000', '0b100000000']\n"
     ]
    },
    {
     "ename": "ValueError",
     "evalue": "The truth value of an array with more than one element is ambiguous. Use a.any() or a.all()",
     "output_type": "error",
     "traceback": [
      "\u001b[1;31m---------------------------------------------------------------------------\u001b[0m",
      "\u001b[1;31mValueError\u001b[0m                                Traceback (most recent call last)",
      "\u001b[1;32m~\\AppData\\Local\\Temp/ipykernel_12852/2264854130.py\u001b[0m in \u001b[0;36m<module>\u001b[1;34m\u001b[0m\n\u001b[0;32m      6\u001b[0m \u001b[0mprint\u001b[0m\u001b[1;33m(\u001b[0m\u001b[1;33m[\u001b[0m\u001b[0mbin\u001b[0m\u001b[1;33m(\u001b[0m\u001b[0mz\u001b[0m\u001b[1;33m)\u001b[0m \u001b[1;32mfor\u001b[0m \u001b[0mz\u001b[0m \u001b[1;32min\u001b[0m \u001b[1;36m2\u001b[0m \u001b[1;33m<<\u001b[0m \u001b[0mZ_2\u001b[0m\u001b[1;33m]\u001b[0m\u001b[1;33m)\u001b[0m\u001b[1;33m\u001b[0m\u001b[1;33m\u001b[0m\u001b[0m\n\u001b[0;32m      7\u001b[0m \u001b[0mprint\u001b[0m\u001b[1;33m(\u001b[0m\u001b[1;33m[\u001b[0m\u001b[0mbin\u001b[0m\u001b[1;33m(\u001b[0m\u001b[0mz\u001b[0m\u001b[1;33m)\u001b[0m \u001b[1;32mfor\u001b[0m \u001b[0mz\u001b[0m \u001b[1;32min\u001b[0m \u001b[0mZ_2\u001b[0m\u001b[1;33m]\u001b[0m\u001b[1;33m)\u001b[0m\u001b[1;33m\u001b[0m\u001b[1;33m\u001b[0m\u001b[0m\n\u001b[1;32m----> 8\u001b[1;33m \u001b[0mZ\u001b[0m\u001b[1;33m<\u001b[0m\u001b[0mZ\u001b[0m\u001b[1;33m>\u001b[0m\u001b[0mZ\u001b[0m\u001b[1;33m\u001b[0m\u001b[1;33m\u001b[0m\u001b[0m\n\u001b[0m",
      "\u001b[1;31mValueError\u001b[0m: The truth value of an array with more than one element is ambiguous. Use a.any() or a.all()"
     ]
    }
   ],
   "source": [
    "Z = arange(10)\n",
    "Z**Z\n",
    "Z_2 = 2 << Z >> 2\n",
    "Z_2\n",
    "print([bin(z) for z in Z_2])\n",
    "print([bin(z) for z in 2 << Z_2])\n",
    "print([bin(z) for z in Z_2])\n",
    "Z<Z>Z"
   ]
  },
  {
   "cell_type": "markdown",
   "metadata": {},
   "source": [
    "#### 28. What are the result of the following expressions?"
   ]
  },
  {
   "cell_type": "markdown",
   "metadata": {},
   "source": [
    "```python\n",
    "np.array(0) / np.array(0)\n",
    "np.array(0) // np.array(0)\n",
    "np.array([np.nan]).astype(int).astype(float)\n",
    "```"
   ]
  },
  {
   "cell_type": "code",
   "execution_count": 42,
   "metadata": {},
   "outputs": [
    {
     "name": "stderr",
     "output_type": "stream",
     "text": [
      "C:\\Users\\JYOTIM\\AppData\\Local\\Temp/ipykernel_12852/548293649.py:1: RuntimeWarning: invalid value encountered in true_divide\n",
      "  np.array(0) / np.array(0)\n",
      "C:\\Users\\JYOTIM\\AppData\\Local\\Temp/ipykernel_12852/548293649.py:2: RuntimeWarning: divide by zero encountered in floor_divide\n",
      "  np.array(0) // np.array(0)\n"
     ]
    },
    {
     "data": {
      "text/plain": [
       "array([-2.14748365e+09])"
      ]
     },
     "execution_count": 42,
     "metadata": {},
     "output_type": "execute_result"
    }
   ],
   "source": [
    "np.array(0) / np.array(0)\n",
    "np.array(0) // np.array(0)\n",
    "np.array([np.nan]).astype(int).astype(float)"
   ]
  },
  {
   "cell_type": "markdown",
   "metadata": {},
   "source": [
    "#### 29. How to round away from zero a float array ? (★☆☆) \n",
    "(**hint**: np.uniform, np.copysign, np.ceil, np.abs)"
   ]
  },
  {
   "cell_type": "code",
   "execution_count": 44,
   "metadata": {},
   "outputs": [
    {
     "name": "stdout",
     "output_type": "stream",
     "text": [
      "[[0.60179017 0.1579073  0.92078526]\n",
      " [0.48332579 0.054089   0.96884753]\n",
      " [0.31583329 0.45168466 0.12752743]]\n",
      "[[0.6  0.16 0.92]\n",
      " [0.48 0.05 0.97]\n",
      " [0.32 0.45 0.13]]\n"
     ]
    }
   ],
   "source": [
    "arr = np.random.random((3,3))\n",
    "print(arr)\n",
    "arr = np.round(arr,2)\n",
    "print(arr) "
   ]
  },
  {
   "cell_type": "markdown",
   "metadata": {},
   "source": [
    "#### 30. How to find common values between two arrays? (★☆☆) \n",
    "(**hint**: np.intersect1d)"
   ]
  },
  {
   "cell_type": "code",
   "execution_count": 48,
   "metadata": {},
   "outputs": [
    {
     "name": "stdout",
     "output_type": "stream",
     "text": [
      "[0 1 2 3 4 5 6 7 8 9]\n"
     ]
    }
   ],
   "source": [
    "arr1 = np.arange(10)\n",
    "arr2= np.arange(20)\n",
    "arr3=np.intersect1d(arr1,arr2)\n",
    "print(arr3)"
   ]
  },
  {
   "cell_type": "markdown",
   "metadata": {},
   "source": [
    "#### 31. How to ignore all numpy warnings (not recommended)? (★☆☆) \n",
    "(**hint**: np.seterr, np.errstate)"
   ]
  },
  {
   "cell_type": "code",
   "execution_count": null,
   "metadata": {},
   "outputs": [],
   "source": [
    "#defaults = np.seterr(all=\"ignore\")\n",
    "#with np.errstate(divide='ignore')"
   ]
  },
  {
   "cell_type": "markdown",
   "metadata": {},
   "source": [
    "#### 32. Is the following expressions true? (★☆☆) \n",
    "(**hint**: imaginary number)"
   ]
  },
  {
   "cell_type": "markdown",
   "metadata": {},
   "source": [
    "```python\n",
    "np.sqrt(-1) == np.emath.sqrt(-1)\n",
    "```"
   ]
  },
  {
   "cell_type": "code",
   "execution_count": 49,
   "metadata": {},
   "outputs": [
    {
     "name": "stderr",
     "output_type": "stream",
     "text": [
      "C:\\Users\\JYOTIM\\AppData\\Local\\Temp/ipykernel_12852/244602691.py:1: RuntimeWarning: invalid value encountered in sqrt\n",
      "  np.sqrt(-1) == np.emath.sqrt(-1)\n"
     ]
    },
    {
     "data": {
      "text/plain": [
       "False"
      ]
     },
     "execution_count": 49,
     "metadata": {},
     "output_type": "execute_result"
    }
   ],
   "source": [
    "np.sqrt(-1) == np.emath.sqrt(-1)"
   ]
  },
  {
   "cell_type": "markdown",
   "metadata": {},
   "source": [
    "#### 33. How to get the dates of yesterday, today and tomorrow? (★☆☆) \n",
    "(**hint**: np.datetime64, np.timedelta64)"
   ]
  },
  {
   "cell_type": "code",
   "execution_count": 51,
   "metadata": {},
   "outputs": [
    {
     "name": "stdout",
     "output_type": "stream",
     "text": [
      "2022-08-08 2022-08-09 2022-08-10\n"
     ]
    }
   ],
   "source": [
    "yesterday = np.datetime64('today', 'D') - np.timedelta64(1, 'D')\n",
    "today     = np.datetime64('today', 'D')\n",
    "tomorrow  = np.datetime64('today', 'D') + np.timedelta64(1, 'D')\n",
    "print(yesterday,today,tomorrow)"
   ]
  },
  {
   "cell_type": "markdown",
   "metadata": {},
   "source": [
    "#### 34. How to get all the dates corresponding to the month of July 2016? (★★☆) \n",
    "(**hint**: np.arange(dtype=datetime64\\['D'\\]))"
   ]
  },
  {
   "cell_type": "code",
   "execution_count": 52,
   "metadata": {},
   "outputs": [
    {
     "name": "stdout",
     "output_type": "stream",
     "text": [
      "['2016-07-01' '2016-07-02' '2016-07-03' '2016-07-04' '2016-07-05'\n",
      " '2016-07-06' '2016-07-07' '2016-07-08' '2016-07-09' '2016-07-10'\n",
      " '2016-07-11' '2016-07-12' '2016-07-13' '2016-07-14' '2016-07-15'\n",
      " '2016-07-16' '2016-07-17' '2016-07-18' '2016-07-19' '2016-07-20'\n",
      " '2016-07-21' '2016-07-22' '2016-07-23' '2016-07-24' '2016-07-25'\n",
      " '2016-07-26' '2016-07-27' '2016-07-28' '2016-07-29' '2016-07-30'\n",
      " '2016-07-31']\n"
     ]
    }
   ],
   "source": [
    "a= np.arange('2016-07', '2016-08', dtype='datetime64[D]')\n",
    "print(a)"
   ]
  },
  {
   "cell_type": "markdown",
   "metadata": {},
   "source": [
    "#### 35. How to compute ((A+B)\\*(-A/2)) in place (without copy)? (★★☆) \n",
    "(**hint**: np.add(out=), np.negative(out=), np.multiply(out=), np.divide(out=))"
   ]
  },
  {
   "cell_type": "code",
   "execution_count": 60,
   "metadata": {},
   "outputs": [
    {
     "name": "stdout",
     "output_type": "stream",
     "text": [
      "[1. 1. 1.]\n",
      "[2. 2. 2.]\n",
      "[3. 3. 3.]\n",
      "[3. 3. 3.]\n",
      "[0.5 0.5 0.5]\n"
     ]
    },
    {
     "data": {
      "text/plain": [
       "-4.5"
      ]
     },
     "execution_count": 60,
     "metadata": {},
     "output_type": "execute_result"
    }
   ],
   "source": [
    "A = np.ones(3)*1\n",
    "print(A)\n",
    "B = np.ones(3)*2\n",
    "print(B)\n",
    "C = np.ones(3)*3\n",
    "print(C)\n",
    "print(np.add(A,B,out=B))\n",
    "print(np.divide(A,2,out=A))\n",
    "np.negative(A,out=A)\n",
    "np.dot(A,B)"
   ]
  },
  {
   "cell_type": "markdown",
   "metadata": {},
   "source": [
    "#### 36. Extract the integer part of a random array using 5 different methods (★★☆) \n",
    "(**hint**: %, np.floor, np.ceil, astype, np.trunc)"
   ]
  },
  {
   "cell_type": "code",
   "execution_count": 63,
   "metadata": {},
   "outputs": [
    {
     "name": "stdout",
     "output_type": "stream",
     "text": [
      "[81.93253723 97.63772574 24.63177663 78.61730184 63.37850856 31.60149309\n",
      "  9.8635223  75.39679196 87.06614393 13.10130643]\n",
      "[81. 97. 24. 78. 63. 31.  9. 75. 87. 13.]\n",
      "[81. 97. 24. 78. 63. 31.  9. 75. 87. 13.]\n",
      "[81. 97. 24. 78. 63. 31.  9. 75. 87. 13.]\n",
      "[81 97 24 78 63 31  9 75 87 13]\n"
     ]
    }
   ],
   "source": [
    "Z= np.random.uniform(0,100,10)\n",
    "print(Z)\n",
    "print (Z - Z%1)\n",
    "print (np.floor(Z))\n",
    "print (np.ceil(Z)-1)\n",
    "print (Z.astype(int))"
   ]
  },
  {
   "cell_type": "markdown",
   "metadata": {},
   "source": [
    "#### 37. Create a 5x5 matrix with row values ranging from 0 to 4 (★★☆) \n",
    "(**hint**: np.arange)"
   ]
  },
  {
   "cell_type": "code",
   "execution_count": 67,
   "metadata": {},
   "outputs": [
    {
     "name": "stdout",
     "output_type": "stream",
     "text": [
      "[[0 1 2 3 4]\n",
      " [0 1 2 3 4]\n",
      " [0 1 2 3 4]\n",
      " [0 1 2 3 4]\n",
      " [0 1 2 3 4]]\n"
     ]
    }
   ],
   "source": [
    "arr=[0,1,2,3,4]\n",
    "x=np.tile(arr,5)\n",
    "print(np.reshape(x,(5,5)))"
   ]
  },
  {
   "cell_type": "markdown",
   "metadata": {},
   "source": [
    "#### 38. Consider a generator function that generates 10 integers and use it to build an array (★☆☆) \n",
    "(**hint**: np.fromiter)"
   ]
  },
  {
   "cell_type": "code",
   "execution_count": 72,
   "metadata": {},
   "outputs": [
    {
     "name": "stdout",
     "output_type": "stream",
     "text": [
      "[0 1 2 3 4 5 6 7 8 9]\n"
     ]
    }
   ],
   "source": [
    "def generate():\n",
    "    for x in range(10):\n",
    "        yield x\n",
    "Z = np.fromiter(generate(),dtype=int)\n",
    "print(Z)"
   ]
  },
  {
   "cell_type": "markdown",
   "metadata": {},
   "source": [
    "#### 39. Create a vector of size 10 with values ranging from 0 to 1, both excluded (★★☆) \n",
    "(**hint**: np.linspace)"
   ]
  },
  {
   "cell_type": "code",
   "execution_count": 75,
   "metadata": {},
   "outputs": [
    {
     "name": "stdout",
     "output_type": "stream",
     "text": [
      "[0.09090909 0.18181818 0.27272727 0.36363636 0.45454545 0.54545455\n",
      " 0.63636364 0.72727273 0.81818182 0.90909091]\n"
     ]
    }
   ],
   "source": [
    "Z = np.linspace(0,1,11,endpoint=False)[1:]\n",
    "print(Z)"
   ]
  },
  {
   "cell_type": "markdown",
   "metadata": {},
   "source": [
    "#### 40. Create a random vector of size 10 and sort it (★★☆) \n",
    "(**hint**: sort)"
   ]
  },
  {
   "cell_type": "code",
   "execution_count": 76,
   "metadata": {},
   "outputs": [
    {
     "name": "stdout",
     "output_type": "stream",
     "text": [
      "[0.09731239 0.1824969  0.20989831 0.236772   0.26894842 0.31549322\n",
      " 0.51030911 0.52660949 0.68062935 0.72451207]\n"
     ]
    }
   ],
   "source": [
    "x= np.random.random(10)\n",
    "x.sort()\n",
    "print(x)"
   ]
  },
  {
   "cell_type": "markdown",
   "metadata": {},
   "source": [
    "#### 41. How to sum a small array faster than np.sum? (★★☆) \n",
    "(**hint**: np.add.reduce)"
   ]
  },
  {
   "cell_type": "code",
   "execution_count": 78,
   "metadata": {},
   "outputs": [
    {
     "name": "stdout",
     "output_type": "stream",
     "text": [
      "10\n"
     ]
    }
   ],
   "source": [
    "a = np.array([1, 2, 3, 4])\n",
    "print(np.add.reduce(a))"
   ]
  },
  {
   "cell_type": "markdown",
   "metadata": {},
   "source": [
    "#### 42. Consider two random array A and B, check if they are equal (★★☆) \n",
    "(**hint**: np.allclose, np.array\\_equal)"
   ]
  },
  {
   "cell_type": "code",
   "execution_count": 84,
   "metadata": {},
   "outputs": [
    {
     "name": "stdout",
     "output_type": "stream",
     "text": [
      "[1 1 1 1 1 1 1 0 1 1]\n",
      "[1 0 1 0 1 1 1 1 1 0]\n",
      "False\n",
      "False\n"
     ]
    }
   ],
   "source": [
    "A = np.random.randint(0,2,10)\n",
    "B = np.random.randint(0,2,10)\n",
    "\n",
    "print(B)\n",
    "print(A)\n",
    "\n",
    "equal = np.allclose(A,B)\n",
    "print(equal)\n",
    "equal = np.array_equal(A,B)\n",
    "print(equal)"
   ]
  },
  {
   "cell_type": "markdown",
   "metadata": {},
   "source": [
    "#### 43. Make an array immutable (read-only) (★★☆) \n",
    "(**hint**: flags.writeable)"
   ]
  },
  {
   "cell_type": "code",
   "execution_count": 7,
   "metadata": {
    "scrolled": true
   },
   "outputs": [],
   "source": [
    "import numpy as np\n",
    "a= np.zeros(10)\n",
    "a.flags.writeable = False"
   ]
  },
  {
   "cell_type": "markdown",
   "metadata": {},
   "source": [
    "#### 44. Consider a random 10x2 matrix representing cartesian coordinates, convert them to polar coordinates (★★☆) \n",
    "(**hint**: np.sqrt, np.arctan2)"
   ]
  },
  {
   "cell_type": "code",
   "execution_count": 15,
   "metadata": {},
   "outputs": [
    {
     "name": "stdout",
     "output_type": "stream",
     "text": [
      "[[  5   7]\n",
      " [ -9   9]\n",
      " [  1   1]\n",
      " [  9  -9]\n",
      " [ -7   1]\n",
      " [ -3  -1]\n",
      " [ -2 -10]\n",
      " [  8  -3]\n",
      " [  3  -6]\n",
      " [  4  -2]]\n",
      "[ 5 -9  1  9 -7 -3 -2  8  3  4] [  7   9   1  -9   1  -1 -10  -3  -6  -2]\n",
      "[[ 8.60232527  0.95054684]\n",
      " [12.72792206  2.35619449]\n",
      " [ 1.41421356  0.78539816]\n",
      " [12.72792206 -0.78539816]\n",
      " [ 7.07106781  2.9996956 ]\n",
      " [ 3.16227766 -2.8198421 ]\n",
      " [10.19803903 -1.76819189]\n",
      " [ 8.54400375 -0.35877067]\n",
      " [ 6.70820393 -1.10714872]\n",
      " [ 4.47213595 -0.46364761]]\n"
     ]
    }
   ],
   "source": [
    "z= np.random.randint(-10,10,(10,2))\n",
    "print(z)\n",
    "x,y = z[:,0], z[:,1]\n",
    "print(x,y)\n",
    "r = np.sqrt(x**2+y**2)\n",
    "t = np.arctan2(y,x)\n",
    "poles = np.c_[r,t]\n",
    "print(poles)"
   ]
  },
  {
   "cell_type": "markdown",
   "metadata": {},
   "source": [
    "#### 45. Create random vector of size 10 and replace the maximum value by 0 (★★☆) \n",
    "(**hint**: argmax)"
   ]
  },
  {
   "cell_type": "code",
   "execution_count": 18,
   "metadata": {},
   "outputs": [
    {
     "name": "stdout",
     "output_type": "stream",
     "text": [
      "[0.5129449  0.6743713  0.47507497 0.81064056 0.08079425 0.46762294\n",
      " 0.94374067 0.64718637 0.45113068 0.09479985]\n",
      "[0.5129449  0.6743713  0.47507497 0.81064056 0.08079425 0.46762294\n",
      " 0.         0.64718637 0.45113068 0.09479985]\n"
     ]
    }
   ],
   "source": [
    "a=np.random.random(10)\n",
    "print(a)\n",
    "a[a.argmax()]=0\n",
    "print(a)"
   ]
  },
  {
   "cell_type": "markdown",
   "metadata": {},
   "source": [
    "#### 46. Create a structured array with `x` and `y` coordinates covering the \\[0,1\\]x\\[0,1\\] area (★★☆) \n",
    "(**hint**: np.meshgrid)"
   ]
  },
  {
   "cell_type": "code",
   "execution_count": 20,
   "metadata": {},
   "outputs": [
    {
     "name": "stdout",
     "output_type": "stream",
     "text": [
      "[[(0., 0.) (0., 0.) (0., 0.) (0., 0.) (0., 0.) (0., 0.) (0., 0.) (0., 0.)\n",
      "  (0., 0.) (0., 0.)]\n",
      " [(0., 0.) (0., 0.) (0., 0.) (0., 0.) (0., 0.) (0., 0.) (0., 0.) (0., 0.)\n",
      "  (0., 0.) (0., 0.)]\n",
      " [(0., 0.) (0., 0.) (0., 0.) (0., 0.) (0., 0.) (0., 0.) (0., 0.) (0., 0.)\n",
      "  (0., 0.) (0., 0.)]\n",
      " [(0., 0.) (0., 0.) (0., 0.) (0., 0.) (0., 0.) (0., 0.) (0., 0.) (0., 0.)\n",
      "  (0., 0.) (0., 0.)]\n",
      " [(0., 0.) (0., 0.) (0., 0.) (0., 0.) (0., 0.) (0., 0.) (0., 0.) (0., 0.)\n",
      "  (0., 0.) (0., 0.)]\n",
      " [(0., 0.) (0., 0.) (0., 0.) (0., 0.) (0., 0.) (0., 0.) (0., 0.) (0., 0.)\n",
      "  (0., 0.) (0., 0.)]\n",
      " [(0., 0.) (0., 0.) (0., 0.) (0., 0.) (0., 0.) (0., 0.) (0., 0.) (0., 0.)\n",
      "  (0., 0.) (0., 0.)]\n",
      " [(0., 0.) (0., 0.) (0., 0.) (0., 0.) (0., 0.) (0., 0.) (0., 0.) (0., 0.)\n",
      "  (0., 0.) (0., 0.)]\n",
      " [(0., 0.) (0., 0.) (0., 0.) (0., 0.) (0., 0.) (0., 0.) (0., 0.) (0., 0.)\n",
      "  (0., 0.) (0., 0.)]\n",
      " [(0., 0.) (0., 0.) (0., 0.) (0., 0.) (0., 0.) (0., 0.) (0., 0.) (0., 0.)\n",
      "  (0., 0.) (0., 0.)]]\n",
      "[[(0.        , 0.        ) (0.11111111, 0.        )\n",
      "  (0.22222222, 0.        ) (0.33333333, 0.        )\n",
      "  (0.44444444, 0.        ) (0.55555556, 0.        )\n",
      "  (0.66666667, 0.        ) (0.77777778, 0.        )\n",
      "  (0.88888889, 0.        ) (1.        , 0.        )]\n",
      " [(0.        , 0.11111111) (0.11111111, 0.11111111)\n",
      "  (0.22222222, 0.11111111) (0.33333333, 0.11111111)\n",
      "  (0.44444444, 0.11111111) (0.55555556, 0.11111111)\n",
      "  (0.66666667, 0.11111111) (0.77777778, 0.11111111)\n",
      "  (0.88888889, 0.11111111) (1.        , 0.11111111)]\n",
      " [(0.        , 0.22222222) (0.11111111, 0.22222222)\n",
      "  (0.22222222, 0.22222222) (0.33333333, 0.22222222)\n",
      "  (0.44444444, 0.22222222) (0.55555556, 0.22222222)\n",
      "  (0.66666667, 0.22222222) (0.77777778, 0.22222222)\n",
      "  (0.88888889, 0.22222222) (1.        , 0.22222222)]\n",
      " [(0.        , 0.33333333) (0.11111111, 0.33333333)\n",
      "  (0.22222222, 0.33333333) (0.33333333, 0.33333333)\n",
      "  (0.44444444, 0.33333333) (0.55555556, 0.33333333)\n",
      "  (0.66666667, 0.33333333) (0.77777778, 0.33333333)\n",
      "  (0.88888889, 0.33333333) (1.        , 0.33333333)]\n",
      " [(0.        , 0.44444444) (0.11111111, 0.44444444)\n",
      "  (0.22222222, 0.44444444) (0.33333333, 0.44444444)\n",
      "  (0.44444444, 0.44444444) (0.55555556, 0.44444444)\n",
      "  (0.66666667, 0.44444444) (0.77777778, 0.44444444)\n",
      "  (0.88888889, 0.44444444) (1.        , 0.44444444)]\n",
      " [(0.        , 0.55555556) (0.11111111, 0.55555556)\n",
      "  (0.22222222, 0.55555556) (0.33333333, 0.55555556)\n",
      "  (0.44444444, 0.55555556) (0.55555556, 0.55555556)\n",
      "  (0.66666667, 0.55555556) (0.77777778, 0.55555556)\n",
      "  (0.88888889, 0.55555556) (1.        , 0.55555556)]\n",
      " [(0.        , 0.66666667) (0.11111111, 0.66666667)\n",
      "  (0.22222222, 0.66666667) (0.33333333, 0.66666667)\n",
      "  (0.44444444, 0.66666667) (0.55555556, 0.66666667)\n",
      "  (0.66666667, 0.66666667) (0.77777778, 0.66666667)\n",
      "  (0.88888889, 0.66666667) (1.        , 0.66666667)]\n",
      " [(0.        , 0.77777778) (0.11111111, 0.77777778)\n",
      "  (0.22222222, 0.77777778) (0.33333333, 0.77777778)\n",
      "  (0.44444444, 0.77777778) (0.55555556, 0.77777778)\n",
      "  (0.66666667, 0.77777778) (0.77777778, 0.77777778)\n",
      "  (0.88888889, 0.77777778) (1.        , 0.77777778)]\n",
      " [(0.        , 0.88888889) (0.11111111, 0.88888889)\n",
      "  (0.22222222, 0.88888889) (0.33333333, 0.88888889)\n",
      "  (0.44444444, 0.88888889) (0.55555556, 0.88888889)\n",
      "  (0.66666667, 0.88888889) (0.77777778, 0.88888889)\n",
      "  (0.88888889, 0.88888889) (1.        , 0.88888889)]\n",
      " [(0.        , 1.        ) (0.11111111, 1.        )\n",
      "  (0.22222222, 1.        ) (0.33333333, 1.        )\n",
      "  (0.44444444, 1.        ) (0.55555556, 1.        )\n",
      "  (0.66666667, 1.        ) (0.77777778, 1.        )\n",
      "  (0.88888889, 1.        ) (1.        , 1.        )]]\n"
     ]
    }
   ],
   "source": [
    "\n",
    "Z=np.zeros((10,10), [('x',float),('y',float)])\n",
    "print(Z)\n",
    "Z['x'],Z['y'] = np.meshgrid(np.linspace(0,1,10),\n",
    "                             np.linspace(0,1,10))\n",
    "print(Z)"
   ]
  },
  {
   "cell_type": "markdown",
   "metadata": {},
   "source": [
    "####  47. Given two arrays, X and Y, construct the Cauchy matrix C (Cij =1/(xi - yj)) \n",
    "(**hint**: np.subtract.outer)"
   ]
  },
  {
   "cell_type": "code",
   "execution_count": 24,
   "metadata": {},
   "outputs": [
    {
     "name": "stdout",
     "output_type": "stream",
     "text": [
      "[[8 1 9 8 0 9 9 1 7 8]]\n",
      "[[8 1 9 8 0 9 9 1 7 8]\n",
      " [8 1 9 8 0 9 9 1 7 8]\n",
      " [8 1 9 8 0 9 9 1 7 8]\n",
      " [8 1 9 8 0 9 9 1 7 8]\n",
      " [8 1 9 8 0 9 9 1 7 8]\n",
      " [8 1 9 8 0 9 9 1 7 8]\n",
      " [8 1 9 8 0 9 9 1 7 8]\n",
      " [8 1 9 8 0 9 9 1 7 8]\n",
      " [8 1 9 8 0 9 9 1 7 8]\n",
      " [8 1 9 8 0 9 9 1 7 8]] [11 17 16 12 15 15 11 15 21 16]\n",
      "[[11 11 11 11 11 11 11 11 11 11]\n",
      " [17 17 17 17 17 17 17 17 17 17]\n",
      " [16 16 16 16 16 16 16 16 16 16]\n",
      " [12 12 12 12 12 12 12 12 12 12]\n",
      " [15 15 15 15 15 15 15 15 15 15]\n",
      " [15 15 15 15 15 15 15 15 15 15]\n",
      " [11 11 11 11 11 11 11 11 11 11]\n",
      " [15 15 15 15 15 15 15 15 15 15]\n",
      " [21 21 21 21 21 21 21 21 21 21]\n",
      " [16 16 16 16 16 16 16 16 16 16]]\n"
     ]
    },
    {
     "data": {
      "text/plain": [
       "array([[0.33333333, 0.1       , 0.5       , 0.33333333, 0.09090909,\n",
       "        0.5       , 0.5       , 0.1       , 0.25      , 0.33333333],\n",
       "       [0.11111111, 0.0625    , 0.125     , 0.11111111, 0.05882353,\n",
       "        0.125     , 0.125     , 0.0625    , 0.1       , 0.11111111],\n",
       "       [0.125     , 0.06666667, 0.14285714, 0.125     , 0.0625    ,\n",
       "        0.14285714, 0.14285714, 0.06666667, 0.11111111, 0.125     ],\n",
       "       [0.25      , 0.09090909, 0.33333333, 0.25      , 0.08333333,\n",
       "        0.33333333, 0.33333333, 0.09090909, 0.2       , 0.25      ],\n",
       "       [0.14285714, 0.07142857, 0.16666667, 0.14285714, 0.06666667,\n",
       "        0.16666667, 0.16666667, 0.07142857, 0.125     , 0.14285714],\n",
       "       [0.14285714, 0.07142857, 0.16666667, 0.14285714, 0.06666667,\n",
       "        0.16666667, 0.16666667, 0.07142857, 0.125     , 0.14285714],\n",
       "       [0.33333333, 0.1       , 0.5       , 0.33333333, 0.09090909,\n",
       "        0.5       , 0.5       , 0.1       , 0.25      , 0.33333333],\n",
       "       [0.14285714, 0.07142857, 0.16666667, 0.14285714, 0.06666667,\n",
       "        0.16666667, 0.16666667, 0.07142857, 0.125     , 0.14285714],\n",
       "       [0.07692308, 0.05      , 0.08333333, 0.07692308, 0.04761905,\n",
       "        0.08333333, 0.08333333, 0.05      , 0.07142857, 0.07692308],\n",
       "       [0.125     , 0.06666667, 0.14285714, 0.125     , 0.0625    ,\n",
       "        0.14285714, 0.14285714, 0.06666667, 0.11111111, 0.125     ]])"
      ]
     },
     "execution_count": 24,
     "metadata": {},
     "output_type": "execute_result"
    }
   ],
   "source": [
    "Y = np.random.randint(0,11,10)\n",
    "X = np.random.randint(11,22,10)\n",
    "print(Y.reshape(1,10))\n",
    "Y = np.tile(Y,(10,1))\n",
    "print(Y,X)\n",
    "X  = np.tile(X,(10,1)).T\n",
    "print(X)\n",
    "C = 1/(X - Y)\n",
    "C"
   ]
  },
  {
   "cell_type": "markdown",
   "metadata": {},
   "source": [
    "#### 48. Print the minimum and maximum representable value for each numpy scalar type (★★☆) \n",
    "(**hint**: np.iinfo, np.finfo, eps)"
   ]
  },
  {
   "cell_type": "code",
   "execution_count": 25,
   "metadata": {},
   "outputs": [
    {
     "name": "stdout",
     "output_type": "stream",
     "text": [
      "-128\n",
      "127\n",
      "-2147483648\n",
      "2147483647\n",
      "-9223372036854775808\n",
      "9223372036854775807\n",
      "-3.4028235e+38\n",
      "3.4028235e+38\n",
      "1.1920929e-07\n",
      "-1.7976931348623157e+308\n",
      "1.7976931348623157e+308\n",
      "2.220446049250313e-16\n"
     ]
    }
   ],
   "source": [
    "for dtype in [np.int8, np.int32, np.int64]:\n",
    "    print(np.iinfo(dtype).min)\n",
    "    print(np.iinfo(dtype).max)\n",
    "for dtype in [np.float32, np.float64]:\n",
    "    print(np.finfo(dtype).min)\n",
    "    print(np.finfo(dtype).max)\n",
    "    print(np.finfo(dtype).eps)"
   ]
  },
  {
   "cell_type": "markdown",
   "metadata": {},
   "source": [
    "#### 49. How to print all the values of an array? (★★☆) \n",
    "(**hint**: np.set\\_printoptions)"
   ]
  },
  {
   "cell_type": "code",
   "execution_count": null,
   "metadata": {},
   "outputs": [],
   "source": [
    "#np.set_printoptions(threshold=np.nan)\n",
    "#Z = np.zeros((int(1e4),int(1e4)))"
   ]
  },
  {
   "cell_type": "markdown",
   "metadata": {},
   "source": [
    "#### 50. How to find the closest value (to a given scalar) in a vector? (★★☆) \n",
    "(**hint**: argmin)"
   ]
  },
  {
   "cell_type": "code",
   "execution_count": 34,
   "metadata": {},
   "outputs": [
    {
     "name": "stdout",
     "output_type": "stream",
     "text": [
      "[2.69015061 9.3953222  6.87563398 1.87846602 1.49529832 8.12954513\n",
      " 7.97160687 2.57331056 0.26223785 2.39967847]\n",
      "[2.30984939 4.3953222  1.87563398 3.12153398 3.50470168 3.12954513\n",
      " 2.97160687 2.42668944 4.73776215 2.60032153]\n",
      "2\n",
      "6.875633975881006\n"
     ]
    }
   ],
   "source": [
    "arr = np.random.uniform(0,10,10)\n",
    "scalar = 5\n",
    "print(arr)\n",
    "arr_1 = np.abs(arr - scalar)\n",
    "print(arr_1)\n",
    "ind = arr_1.argmin()\n",
    "print(ind)\n",
    "\n",
    "print(arr[ind])"
   ]
  },
  {
   "cell_type": "markdown",
   "metadata": {},
   "source": [
    "#### 51. Create a structured array representing a position (x,y) and a color (r,g,b) (★★☆) \n",
    "(**hint**: dtype)"
   ]
  },
  {
   "cell_type": "code",
   "execution_count": 37,
   "metadata": {},
   "outputs": [
    {
     "name": "stdout",
     "output_type": "stream",
     "text": [
      "[((0., 0.), (0., 0., 0.)) ((0., 0.), (0., 0., 0.))\n",
      " ((0., 0.), (0., 0., 0.)) ((0., 0.), (0., 0., 0.))\n",
      " ((0., 0.), (0., 0., 0.)) ((0., 0.), (0., 0., 0.))\n",
      " ((0., 0.), (0., 0., 0.)) ((0., 0.), (0., 0., 0.))\n",
      " ((0., 0.), (0., 0., 0.)) ((0., 0.), (0., 0., 0.))]\n"
     ]
    }
   ],
   "source": [
    "import numpy as np\n",
    "Z=np.zeros(10, [('position',[('x', float),('y', float)]),('color',[ ('r', float),('g', float),('b', float)])])\n",
    "print(Z)"
   ]
  },
  {
   "cell_type": "markdown",
   "metadata": {},
   "source": [
    "#### 52. Consider a random vector with shape (100,2) representing coordinates, find point by point distances (★★☆) \n",
    "(**hint**: np.atleast\\_2d, T, np.sqrt)"
   ]
  },
  {
   "cell_type": "code",
   "execution_count": 42,
   "metadata": {},
   "outputs": [
    {
     "name": "stdout",
     "output_type": "stream",
     "text": [
      "[[0.         0.26404593 0.74373866 ... 1.17615042 0.32001642 0.57476705]\n",
      " [0.26404593 0.         0.4925408  ... 1.00186608 0.06354685 0.66261891]\n",
      " [0.74373866 0.4925408  0.         ... 0.63947971 0.45766934 0.88186978]\n",
      " ...\n",
      " [1.17615042 1.00186608 0.63947971 ... 0.         0.9989154  0.95580597]\n",
      " [0.32001642 0.06354685 0.45766934 ... 0.9989154  0.         0.71936108]\n",
      " [0.57476705 0.66261891 0.88186978 ... 0.95580597 0.71936108 0.        ]]\n",
      "[[0.         0.23698833 0.26837307 0.41168634 0.78075495 0.29428302\n",
      "  0.27390745 0.7497321  0.81451284 0.1099697 ]\n",
      " [0.23698833 0.         0.3740506  0.48056849 0.57951667 0.4398005\n",
      "  0.08194283 0.56913017 0.83109757 0.13664755]\n",
      " [0.26837307 0.3740506  0.         0.14494047 0.72594167 0.08243376\n",
      "  0.34415932 0.66359844 0.55169133 0.26678466]\n",
      " [0.41168634 0.48056849 0.14494047 0.         0.70956507 0.16740166\n",
      "  0.43164754 0.63226013 0.40713038 0.39498466]\n",
      " [0.78075495 0.57951667 0.72594167 0.70956507 0.         0.80683989\n",
      "  0.51377366 0.10010863 0.78332904 0.67235348]\n",
      " [0.29428302 0.4398005  0.08243376 0.16740166 0.80683989 0.\n",
      "  0.41842963 0.74237328 0.5636005  0.32010378]\n",
      " [0.27390745 0.08194283 0.34415932 0.43164754 0.51377366 0.41842963\n",
      "  0.         0.4955362  0.76159538 0.16399642]\n",
      " [0.7497321  0.56913017 0.66359844 0.63226013 0.10010863 0.74237328\n",
      "  0.4955362  0.         0.68377796 0.6448069 ]\n",
      " [0.81451284 0.83109757 0.55169133 0.40713038 0.78332904 0.5636005\n",
      "  0.76159538 0.68377796 0.         0.779555  ]\n",
      " [0.1099697  0.13664755 0.26678466 0.39498466 0.67235348 0.32010378\n",
      "  0.16399642 0.6448069  0.779555   0.        ]]\n"
     ]
    }
   ],
   "source": [
    "arr = np.random.random((100,2))\n",
    "#print(arr)\n",
    "X,Y = np.atleast_2d(arr[:,0],arr[:,1])\n",
    "#print(X,Y)\n",
    "D = np.sqrt( (X-X.T)**2 + (Y-Y.T)**2)\n",
    "print(D)\n",
    "# Much faster with scipy\n",
    "import scipy\n",
    "# Thanks Gavin Heverly-Coulson (#issue 1)\n",
    "import scipy.spatial\n",
    "Z = np.random.random((10,2))\n",
    "D = scipy.spatial.distance.cdist(Z,Z)\n",
    "print(D)"
   ]
  },
  {
   "cell_type": "markdown",
   "metadata": {},
   "source": [
    "#### 53. How to convert a float (32 bits) array into an integer (32 bits) in place? \n",
    "(**hint**: astype(copy=False))"
   ]
  },
  {
   "cell_type": "code",
   "execution_count": 48,
   "metadata": {},
   "outputs": [
    {
     "name": "stdout",
     "output_type": "stream",
     "text": [
      "[0. 1. 2. 3. 4. 5. 6. 7. 8. 9.]\n"
     ]
    }
   ],
   "source": [
    "Z=np.arange(10, dtype=np.float32)\n",
    "print(Z.astype(np.float32, copy=False))"
   ]
  },
  {
   "cell_type": "markdown",
   "metadata": {},
   "source": [
    "#### 54. How to read the following file? (★★☆) \n",
    "(**hint**: np.genfromtxt)"
   ]
  },
  {
   "cell_type": "markdown",
   "metadata": {},
   "source": [
    "```\n",
    "1, 2, 3, 4, 5\n",
    "6,  ,  , 7, 8\n",
    " ,  , 9,10,11\n",
    "```"
   ]
  },
  {
   "cell_type": "code",
   "execution_count": 51,
   "metadata": {},
   "outputs": [
    {
     "name": "stdout",
     "output_type": "stream",
     "text": [
      "[[ 1.  2.  3.  4.  5.]\n",
      " [ 6. nan nan  7.  8.]\n",
      " [nan nan  9. 10. 11.]]\n"
     ]
    }
   ],
   "source": [
    "from io import StringIO\n",
    "s = StringIO(\"\"\"1, 2, 3, 4, 5\\n\n",
    "                6,  ,  , 7, 8\\n\n",
    "                 ,  , 9,10,11\\n\"\"\")\n",
    "Z = np.genfromtxt(s, delimiter=\",\")\n",
    "print(Z)"
   ]
  },
  {
   "cell_type": "markdown",
   "metadata": {},
   "source": [
    "#### 55. What is the equivalent of enumerate for numpy arrays? (★★☆) \n",
    "(**hint**: np.ndenumerate, np.ndindex)"
   ]
  },
  {
   "cell_type": "code",
   "execution_count": 52,
   "metadata": {},
   "outputs": [
    {
     "name": "stdout",
     "output_type": "stream",
     "text": [
      "(0, 0) 0\n",
      "(0, 1) 1\n",
      "(0, 2) 2\n",
      "(1, 0) 3\n",
      "(1, 1) 4\n",
      "(1, 2) 5\n",
      "(2, 0) 6\n",
      "(2, 1) 7\n",
      "(2, 2) 8\n",
      "(0, 0) 0\n",
      "(0, 1) 1\n",
      "(0, 2) 2\n",
      "(1, 0) 3\n",
      "(1, 1) 4\n",
      "(1, 2) 5\n",
      "(2, 0) 6\n",
      "(2, 1) 7\n",
      "(2, 2) 8\n"
     ]
    }
   ],
   "source": [
    "Z = np.arange(9).reshape(3,3)\n",
    "for index, value in np.ndenumerate(Z):\n",
    "    print(index, value)\n",
    "for index in np.ndindex(Z.shape):\n",
    "    print(index, Z[index])"
   ]
  },
  {
   "cell_type": "markdown",
   "metadata": {},
   "source": [
    "#### 56. Generate a generic 2D Gaussian-like array (★★☆) \n",
    "(**hint**: np.meshgrid, np.exp)"
   ]
  },
  {
   "cell_type": "code",
   "execution_count": 54,
   "metadata": {},
   "outputs": [
    {
     "name": "stdout",
     "output_type": "stream",
     "text": [
      "[[0.36787944 0.44822088 0.51979489 0.57375342 0.60279818 0.60279818\n",
      "  0.57375342 0.51979489 0.44822088 0.36787944]\n",
      " [0.44822088 0.54610814 0.63331324 0.69905581 0.73444367 0.73444367\n",
      "  0.69905581 0.63331324 0.54610814 0.44822088]\n",
      " [0.51979489 0.63331324 0.73444367 0.81068432 0.85172308 0.85172308\n",
      "  0.81068432 0.73444367 0.63331324 0.51979489]\n",
      " [0.57375342 0.69905581 0.81068432 0.89483932 0.9401382  0.9401382\n",
      "  0.89483932 0.81068432 0.69905581 0.57375342]\n",
      " [0.60279818 0.73444367 0.85172308 0.9401382  0.98773022 0.98773022\n",
      "  0.9401382  0.85172308 0.73444367 0.60279818]\n",
      " [0.60279818 0.73444367 0.85172308 0.9401382  0.98773022 0.98773022\n",
      "  0.9401382  0.85172308 0.73444367 0.60279818]\n",
      " [0.57375342 0.69905581 0.81068432 0.89483932 0.9401382  0.9401382\n",
      "  0.89483932 0.81068432 0.69905581 0.57375342]\n",
      " [0.51979489 0.63331324 0.73444367 0.81068432 0.85172308 0.85172308\n",
      "  0.81068432 0.73444367 0.63331324 0.51979489]\n",
      " [0.44822088 0.54610814 0.63331324 0.69905581 0.73444367 0.73444367\n",
      "  0.69905581 0.63331324 0.54610814 0.44822088]\n",
      " [0.36787944 0.44822088 0.51979489 0.57375342 0.60279818 0.60279818\n",
      "  0.57375342 0.51979489 0.44822088 0.36787944]]\n"
     ]
    }
   ],
   "source": [
    "sigma,myu = 1.0,0.0\n",
    "X,Y  = np.meshgrid(np.linspace(-1,1,10),np.linspace(-1,1,10))\n",
    "D = np.sqrt(X**2+Y**2)\n",
    "Gaussian = np.exp(-(D-myu)**2/(2*sigma**2))\n",
    "print(Gaussian)"
   ]
  },
  {
   "cell_type": "markdown",
   "metadata": {},
   "source": [
    "#### 57. How to randomly place p elements in a 2D array? (★★☆) \n",
    "(**hint**: np.put, np.random.choice)"
   ]
  },
  {
   "cell_type": "code",
   "execution_count": 65,
   "metadata": {},
   "outputs": [
    {
     "name": "stdout",
     "output_type": "stream",
     "text": [
      "[[0. 0. 0. 0. 0. 0. 0. 0. 0. 0.]\n",
      " [0. 0. 0. 0. 0. 0. 0. 0. 0. 0.]\n",
      " [0. 0. 0. 0. 0. 0. 0. 0. 0. 0.]\n",
      " [0. 0. 0. 0. 0. 0. 0. 0. 0. 0.]\n",
      " [0. 0. 0. 0. 0. 0. 0. 0. 0. 0.]\n",
      " [0. 0. 0. 0. 0. 0. 0. 0. 0. 0.]\n",
      " [0. 0. 0. 0. 0. 0. 0. 0. 0. 0.]\n",
      " [0. 0. 0. 0. 0. 0. 0. 0. 0. 0.]\n",
      " [0. 0. 0. 0. 0. 0. 0. 0. 0. 0.]\n",
      " [0. 0. 0. 0. 0. 0. 0. 3. 0. 0.]]\n"
     ]
    }
   ],
   "source": [
    "n = 10\n",
    "p=3\n",
    "Z = np.zeros((n,n))\n",
    "np.put(Z, np.random.choice(range(n*n),replace=True),p)\n",
    "print(Z)"
   ]
  },
  {
   "cell_type": "markdown",
   "metadata": {},
   "source": [
    "#### 58. Subtract the mean of each row of a matrix (★★☆) \n",
    "(**hint**: mean(axis=,keepdims=))"
   ]
  },
  {
   "cell_type": "code",
   "execution_count": 66,
   "metadata": {},
   "outputs": [
    {
     "name": "stdout",
     "output_type": "stream",
     "text": [
      "[[0.0010972  0.19105276 0.62707977 0.75000858 0.5503755  0.91048214\n",
      "  0.62764372 0.98540165 0.17725974 0.35295417]\n",
      " [0.92205473 0.02408297 0.82645066 0.5832216  0.25818268 0.53444229\n",
      "  0.93103822 0.96334166 0.85661997 0.35967878]\n",
      " [0.71376584 0.44519945 0.80160269 0.93767152 0.2105857  0.49662249\n",
      "  0.16536758 0.48419923 0.33733415 0.07015659]\n",
      " [0.82183075 0.01287992 0.81487128 0.86317116 0.11961652 0.7932476\n",
      "  0.30876774 0.10656367 0.72537369 0.82427129]\n",
      " [0.93057347 0.52529929 0.75468139 0.37658404 0.88642078 0.47073101\n",
      "  0.02287059 0.95178297 0.17844271 0.7458567 ]]\n"
     ]
    },
    {
     "data": {
      "text/plain": [
       "array([[ True],\n",
       "       [ True],\n",
       "       [ True],\n",
       "       [ True],\n",
       "       [ True]])"
      ]
     },
     "execution_count": 66,
     "metadata": {},
     "output_type": "execute_result"
    }
   ],
   "source": [
    "X = np.random.rand(5, 10)\n",
    "print(X)\n",
    "Y = X - X.mean(axis = 1,keepdims = True)\n",
    "#print(Y)\n",
    "X.mean(axis = 1).reshape(-1,1) == X.mean(axis = 1,keepdims =True)"
   ]
  },
  {
   "cell_type": "markdown",
   "metadata": {},
   "source": [
    "#### 59. How to sort an array by the nth column? (★★☆) \n",
    "(**hint**: argsort)"
   ]
  },
  {
   "cell_type": "code",
   "execution_count": 11,
   "metadata": {},
   "outputs": [
    {
     "name": "stdout",
     "output_type": "stream",
     "text": [
      "Original array:\n",
      "\n",
      "[[9 3 9]\n",
      " [8 7 9]\n",
      " [7 8 3]]\n",
      "\n",
      "Sort the said array by the nth column: \n",
      "[[7 8 3]\n",
      " [8 7 9]\n",
      " [9 3 9]]\n"
     ]
    }
   ],
   "source": [
    "import numpy as np\n",
    "print(\"Original array:\\n\")\n",
    "nums = np.random.randint(0,10,(3,3))\n",
    "print(nums[nums[:,0].argsort()])"
   ]
  },
  {
   "cell_type": "markdown",
   "metadata": {},
   "source": [
    "#### 60. How to tell if a given 2D array has null columns? (★★☆) \n",
    "(**hint**: any, ~)"
   ]
  },
  {
   "cell_type": "code",
   "execution_count": 13,
   "metadata": {},
   "outputs": [
    {
     "name": "stdout",
     "output_type": "stream",
     "text": [
      "[[8 1 6]\n",
      " [5 7 0]\n",
      " [1 6 3]]\n",
      "False\n"
     ]
    }
   ],
   "source": [
    "Z = np.random.randint(0,10,(3,3))\n",
    "print(Z)\n",
    "print((~Z.any(axis=0)).any())"
   ]
  },
  {
   "cell_type": "markdown",
   "metadata": {},
   "source": [
    "#### 61. Find the nearest value from a given value in an array (★★☆) \n",
    "(**hint**: np.abs, argmin, flat)"
   ]
  },
  {
   "cell_type": "code",
   "execution_count": 14,
   "metadata": {},
   "outputs": [
    {
     "name": "stdout",
     "output_type": "stream",
     "text": [
      "78\n"
     ]
    }
   ],
   "source": [
    "arr = np.array([12, 40, 65, 78, 10, 99, 30])\n",
    "x = 85\n",
    "difference_array = np.absolute(arr-x)\n",
    "print(arr[difference_array.argmin()])"
   ]
  },
  {
   "cell_type": "markdown",
   "metadata": {},
   "source": [
    "#### 62. Considering two arrays with shape (1,3) and (3,1), how to compute their sum using an iterator? (★★☆) \n",
    "(**hint**: np.nditer)"
   ]
  },
  {
   "cell_type": "code",
   "execution_count": 16,
   "metadata": {},
   "outputs": [
    {
     "name": "stdout",
     "output_type": "stream",
     "text": [
      "[[0]\n",
      " [1]\n",
      " [2]] [[0 1 2]]\n",
      "<numpy.nditer object at 0x000001B6B2CBDE90>\n",
      "[[0 1 2]\n",
      " [1 2 3]\n",
      " [2 3 4]]\n"
     ]
    }
   ],
   "source": [
    "A = np.arange(3).reshape(3,1)\n",
    "B = np.arange(3).reshape(1,3)\n",
    "print(A,B)\n",
    "it = np.nditer([A,B,None])\n",
    "print(it)\n",
    "for x,y,z in it: z[...] = x + y\n",
    "print(it.operands[2])"
   ]
  },
  {
   "cell_type": "markdown",
   "metadata": {},
   "source": [
    "#### 63. Create an array class that has a name attribute (★★☆) \n",
    "(**hint**: class method)"
   ]
  },
  {
   "cell_type": "code",
   "execution_count": 22,
   "metadata": {},
   "outputs": [
    {
     "name": "stdout",
     "output_type": "stream",
     "text": [
      "[0 1 2 3 4 5 6 7 8 9]\n"
     ]
    }
   ],
   "source": [
    "class NamedArray(np.ndarray):\n",
    "    def __new__(cls, array, name=\"no name\"):\n",
    "        obj = np.asarray(array).view(cls)\n",
    "        obj.name = name\n",
    "        return obj\n",
    "    def __array_finalize__(self, obj):\n",
    "        if obj is None: return\n",
    "        self.info = getattr(obj, 'name', \"no name\")\n",
    "Z = NamedArray(np.arange(10), \"range_10\")\n",
    "print (Z)"
   ]
  },
  {
   "cell_type": "markdown",
   "metadata": {},
   "source": [
    "#### 64. Consider a given vector, how to add 1 to each element indexed by a second vector (be careful with repeated indices)? (★★★) \n",
    "(**hint**: np.bincount | np.add.at)"
   ]
  },
  {
   "cell_type": "code",
   "execution_count": 28,
   "metadata": {},
   "outputs": [
    {
     "name": "stdout",
     "output_type": "stream",
     "text": [
      "[1. 1. 1. 1. 1. 1. 1. 1. 1. 1.]\n",
      "[3 0 3 7 7 8 3 1 7 4 1 1 1 9 7 0 1 4 6 2]\n",
      "[2 5 1 3 2 0 1 4 1 1]\n",
      "[3. 6. 2. 4. 3. 1. 2. 5. 2. 2.]\n"
     ]
    }
   ],
   "source": [
    "Z = np.ones(10)\n",
    "print(Z)\n",
    "I = np.random.randint(0,len(Z),20)\n",
    "print(I)\n",
    "print(np.bincount(I, minlength=len(Z)))\n",
    "Z += np.bincount(I, minlength=len(Z))\n",
    "print(Z)"
   ]
  },
  {
   "cell_type": "markdown",
   "metadata": {},
   "source": [
    "#### 65. How to accumulate elements of a vector (X) to an array (F) based on an index list (I)? (★★★) \n",
    "(**hint**: np.bincount)"
   ]
  },
  {
   "cell_type": "code",
   "execution_count": 29,
   "metadata": {},
   "outputs": [
    {
     "name": "stdout",
     "output_type": "stream",
     "text": [
      "[3. 6. 2. 4. 3. 1. 2. 5. 2. 2.] [3 0 3 7 7 8 3 1 7 4 1 1 1 9 7 0 1 4 6 2]\n",
      "[ 5. 11.  3.  7.  5.  1.  3.  9.  3.  3.]\n"
     ]
    }
   ],
   "source": [
    "print(Z,I)\n",
    "np.add.at(Z, I, 1)\n",
    "print(Z)"
   ]
  },
  {
   "cell_type": "markdown",
   "metadata": {},
   "source": [
    "#### 66. Considering a (w,h,3) image of (dtype=ubyte), compute the number of unique colors (★★★) \n",
    "(**hint**: np.unique)"
   ]
  },
  {
   "cell_type": "code",
   "execution_count": 33,
   "metadata": {},
   "outputs": [
    {
     "name": "stdout",
     "output_type": "stream",
     "text": [
      "64\n"
     ]
    }
   ],
   "source": [
    "w, h = 256, 256\n",
    "I = np.random.randint(0, 4, (h, w, 3)).astype(np.ubyte)\n",
    "#print(I)\n",
    "colors = np.unique(I.reshape(-1, 3), axis=0)\n",
    "#print(colors)\n",
    "n = len(colors)\n",
    "print(n)"
   ]
  },
  {
   "cell_type": "markdown",
   "metadata": {},
   "source": [
    "#### 67. Considering a four dimensions array, how to get sum over the last two axis at once? (★★★) \n",
    "(**hint**: sum(axis=(-2,-1)))"
   ]
  },
  {
   "cell_type": "code",
   "execution_count": 34,
   "metadata": {},
   "outputs": [
    {
     "name": "stdout",
     "output_type": "stream",
     "text": [
      "[[[[8 0 7 2]\n",
      "   [9 6 2 7]\n",
      "   [2 0 7 2]]\n",
      "\n",
      "  [[0 0 4 5]\n",
      "   [1 0 2 6]\n",
      "   [2 3 2 0]]\n",
      "\n",
      "  [[3 2 5 1]\n",
      "   [0 4 2 0]\n",
      "   [8 8 4 7]]\n",
      "\n",
      "  [[3 7 6 1]\n",
      "   [7 8 0 6]\n",
      "   [2 6 4 1]]]\n",
      "\n",
      "\n",
      " [[[0 2 2 6]\n",
      "   [5 4 4 1]\n",
      "   [0 3 9 1]]\n",
      "\n",
      "  [[6 1 3 0]\n",
      "   [6 4 2 9]\n",
      "   [8 9 0 9]]\n",
      "\n",
      "  [[7 1 9 6]\n",
      "   [0 5 2 6]\n",
      "   [0 2 3 8]]\n",
      "\n",
      "  [[3 6 3 7]\n",
      "   [3 5 5 9]\n",
      "   [3 3 9 5]]]\n",
      "\n",
      "\n",
      " [[[2 6 1 4]\n",
      "   [8 0 4 3]\n",
      "   [8 2 2 7]]\n",
      "\n",
      "  [[6 2 6 2]\n",
      "   [6 5 9 2]\n",
      "   [1 6 5 3]]\n",
      "\n",
      "  [[7 8 6 9]\n",
      "   [1 5 8 0]\n",
      "   [4 4 7 8]]\n",
      "\n",
      "  [[9 5 4 9]\n",
      "   [1 1 2 0]\n",
      "   [0 6 4 7]]]]\n",
      "[[52 25 44 51]\n",
      " [37 57 49 61]\n",
      " [47 53 67 48]]\n"
     ]
    }
   ],
   "source": [
    "A = np.random.randint(0,10,(3,4,3,4))\n",
    "print(A)\n",
    "sum = A.sum(axis=(-2,-1))\n",
    "print(sum)"
   ]
  },
  {
   "cell_type": "markdown",
   "metadata": {},
   "source": [
    "#### 68. Considering a one-dimensional vector D, how to compute means of subsets of D using a vector S of same size describing subset  indices? (★★★) \n",
    "(**hint**: np.bincount)"
   ]
  },
  {
   "cell_type": "code",
   "execution_count": 38,
   "metadata": {},
   "outputs": [
    {
     "name": "stdout",
     "output_type": "stream",
     "text": [
      "[0.53379919 0.36041758 0.41713545 0.60272052 0.24706582 0.39851816\n",
      " 0.56657394 0.40999068 0.47522097 0.59877235]\n",
      "0    0.533799\n",
      "1    0.360418\n",
      "2    0.417135\n",
      "3    0.602721\n",
      "4    0.247066\n",
      "5    0.398518\n",
      "6    0.566574\n",
      "7    0.409991\n",
      "8    0.475221\n",
      "9    0.598772\n",
      "dtype: float64\n"
     ]
    }
   ],
   "source": [
    "D = np.random.uniform(0,1,100)\n",
    "S = np.random.randint(0,10,100)\n",
    "D_sums = np.bincount(S, weights=D)\n",
    "D_counts = np.bincount(S)\n",
    "#print(D,S,D_sums,D_counts)\n",
    "D_means = D_sums / D_counts\n",
    "print(D_means)\n",
    "\n",
    "# Pandas solution as a reference due to more intuitive code\n",
    "import pandas as pd\n",
    "print(pd.Series(D).groupby(S).mean())"
   ]
  },
  {
   "cell_type": "markdown",
   "metadata": {},
   "source": [
    "#### 69. How to get the diagonal of a dot product? (★★★) \n",
    "(**hint**: np.diag)"
   ]
  },
  {
   "cell_type": "code",
   "execution_count": 40,
   "metadata": {},
   "outputs": [
    {
     "name": "stdout",
     "output_type": "stream",
     "text": [
      "[[0.11208099 0.07030107 0.22724522 0.6473572  0.45780679]\n",
      " [0.1266703  0.87988291 0.10505944 0.84442197 0.65386651]\n",
      " [0.44208483 0.8010837  0.30642046 0.14377893 0.01762048]\n",
      " [0.88516909 0.37928602 0.9504209  0.84205523 0.17594085]\n",
      " [0.81597053 0.28672289 0.99594713 0.84736193 0.58913813]] [[7.08235351e-01 1.54959702e-01 3.91808877e-01 1.89844183e-01\n",
      "  7.22807871e-01]\n",
      " [1.84765747e-04 5.09008646e-01 1.41034847e-01 3.85639006e-01\n",
      "  8.96716565e-01]\n",
      " [7.34874394e-01 4.48063168e-01 3.12523755e-01 6.51066965e-01\n",
      "  7.23086621e-01]\n",
      " [3.04428614e-01 6.04715847e-01 9.94696789e-01 8.91327079e-02\n",
      "  4.96085611e-01]\n",
      " [7.79201023e-01 1.44339710e-01 2.86278869e-01 4.87886128e-01\n",
      "  6.91394336e-01]] [0.80018698 1.11958431 0.53001796 1.0939931  2.39474596]\n"
     ]
    },
    {
     "data": {
      "text/plain": [
       "array([0.80018698, 1.11958431, 0.53001796, 1.0939931 , 2.39474596])"
      ]
     },
     "execution_count": 40,
     "metadata": {},
     "output_type": "execute_result"
    }
   ],
   "source": [
    "A = np.random.uniform(0,1,(5,5))\n",
    "B = np.random.uniform(0,1,(5,5))\n",
    "\n",
    "# Slow version\n",
    "np.diag(np.dot(A, B))\n",
    "print(A,B,np.diag(np.dot(A, B)))\n",
    "# Fast version\n",
    "np.sum(A * B.T, axis=1)\n"
   ]
  },
  {
   "cell_type": "markdown",
   "metadata": {},
   "source": [
    "#### 70. Consider the vector \\[1, 2, 3, 4, 5\\], how to build a new vector with 3 consecutive zeros interleaved between each value? (★★★) \n",
    "(**hint**: array\\[::4\\])"
   ]
  },
  {
   "cell_type": "code",
   "execution_count": 41,
   "metadata": {},
   "outputs": [
    {
     "name": "stdout",
     "output_type": "stream",
     "text": [
      "[1. 0. 0. 0. 2. 0. 0. 0. 3. 0. 0. 0. 4. 0. 0. 0. 5.]\n"
     ]
    }
   ],
   "source": [
    "Z = np.array([1,2,3,4,5])\n",
    "nz = 3\n",
    "Z0 = np.zeros(len(Z) + (len(Z)-1)*(nz))\n",
    "Z0[::nz+1] = Z\n",
    "print(Z0)"
   ]
  },
  {
   "cell_type": "markdown",
   "metadata": {},
   "source": [
    "#### 71. Consider an array of dimension (5,5,3), how to mulitply it by an array with dimensions (5,5)? (★★★) \n",
    "(**hint**: array\\[:, :, None\\])"
   ]
  },
  {
   "cell_type": "code",
   "execution_count": 46,
   "metadata": {},
   "outputs": [
    {
     "name": "stdout",
     "output_type": "stream",
     "text": [
      "[[[1. 1. 1.]\n",
      "  [1. 1. 1.]\n",
      "  [1. 1. 1.]\n",
      "  [1. 1. 1.]\n",
      "  [1. 1. 1.]]\n",
      "\n",
      " [[1. 1. 1.]\n",
      "  [1. 1. 1.]\n",
      "  [1. 1. 1.]\n",
      "  [1. 1. 1.]\n",
      "  [1. 1. 1.]]\n",
      "\n",
      " [[1. 1. 1.]\n",
      "  [1. 1. 1.]\n",
      "  [1. 1. 1.]\n",
      "  [1. 1. 1.]\n",
      "  [1. 1. 1.]]\n",
      "\n",
      " [[1. 1. 1.]\n",
      "  [1. 1. 1.]\n",
      "  [1. 1. 1.]\n",
      "  [1. 1. 1.]\n",
      "  [1. 1. 1.]]\n",
      "\n",
      " [[1. 1. 1.]\n",
      "  [1. 1. 1.]\n",
      "  [1. 1. 1.]\n",
      "  [1. 1. 1.]\n",
      "  [1. 1. 1.]]]\n",
      "[[1. 1. 1. 1. 1.]\n",
      " [1. 1. 1. 1. 1.]\n",
      " [1. 1. 1. 1. 1.]\n",
      " [1. 1. 1. 1. 1.]\n",
      " [1. 1. 1. 1. 1.]]\n",
      "[[[1. 1. 1.]\n",
      "  [1. 1. 1.]\n",
      "  [1. 1. 1.]\n",
      "  [1. 1. 1.]\n",
      "  [1. 1. 1.]]\n",
      "\n",
      " [[1. 1. 1.]\n",
      "  [1. 1. 1.]\n",
      "  [1. 1. 1.]\n",
      "  [1. 1. 1.]\n",
      "  [1. 1. 1.]]\n",
      "\n",
      " [[1. 1. 1.]\n",
      "  [1. 1. 1.]\n",
      "  [1. 1. 1.]\n",
      "  [1. 1. 1.]\n",
      "  [1. 1. 1.]]\n",
      "\n",
      " [[1. 1. 1.]\n",
      "  [1. 1. 1.]\n",
      "  [1. 1. 1.]\n",
      "  [1. 1. 1.]\n",
      "  [1. 1. 1.]]\n",
      "\n",
      " [[1. 1. 1.]\n",
      "  [1. 1. 1.]\n",
      "  [1. 1. 1.]\n",
      "  [1. 1. 1.]\n",
      "  [1. 1. 1.]]]\n"
     ]
    }
   ],
   "source": [
    "A = np.ones((5,5,3))\n",
    "print(A)\n",
    "\n",
    "B =np.ones((5,5))\n",
    "print(B)\n",
    "print(A * B[:,:,None])"
   ]
  },
  {
   "cell_type": "markdown",
   "metadata": {},
   "source": [
    "#### 72. How to swap two rows of an array? (★★★) \n",
    "(**hint**: array\\[\\[\\]\\] = array\\[\\[\\]\\])"
   ]
  },
  {
   "cell_type": "code",
   "execution_count": 47,
   "metadata": {},
   "outputs": [
    {
     "name": "stdout",
     "output_type": "stream",
     "text": [
      "[[ 5  6  7  8  9]\n",
      " [ 0  1  2  3  4]\n",
      " [10 11 12 13 14]\n",
      " [15 16 17 18 19]\n",
      " [20 21 22 23 24]]\n"
     ]
    }
   ],
   "source": [
    "A = np.arange(25).reshape(5,5)\n",
    "A[[0,1]] = A[[1,0]]\n",
    "print(A)"
   ]
  },
  {
   "cell_type": "markdown",
   "metadata": {},
   "source": [
    "#### 73. Consider a set of 10 triplets describing 10 triangles (with shared vertices), find the set of unique line segments composing all the  triangles (★★★) \n",
    "(**hint**: repeat, np.roll, np.sort, view, np.unique)"
   ]
  },
  {
   "cell_type": "code",
   "execution_count": 54,
   "metadata": {},
   "outputs": [
    {
     "name": "stdout",
     "output_type": "stream",
     "text": [
      "[[28 59 66]\n",
      " [98 68 66]\n",
      " [37 16 37]\n",
      " [68  3  4]\n",
      " [ 4 70 99]\n",
      " [30 88 26]\n",
      " [ 2 16 50]\n",
      " [13 88 20]\n",
      " [86 19 62]\n",
      " [ 7 73 91]]\n",
      "[[28 59 59 66 66 28]\n",
      " [98 68 68 66 66 98]\n",
      " [37 16 16 37 37 37]\n",
      " [68  3  3  4  4 68]\n",
      " [ 4 70 70 99 99  4]\n",
      " [30 88 88 26 26 30]\n",
      " [ 2 16 16 50 50  2]\n",
      " [13 88 88 20 20 13]\n",
      " [86 19 19 62 62 86]\n",
      " [ 7 73 73 91 91  7]]\n",
      "[[28 59]\n",
      " [59 66]\n",
      " [66 28]\n",
      " [98 68]\n",
      " [68 66]\n",
      " [66 98]\n",
      " [37 16]\n",
      " [16 37]\n",
      " [37 37]\n",
      " [68  3]\n",
      " [ 3  4]\n",
      " [ 4 68]\n",
      " [ 4 70]\n",
      " [70 99]\n",
      " [99  4]\n",
      " [30 88]\n",
      " [88 26]\n",
      " [26 30]\n",
      " [ 2 16]\n",
      " [16 50]\n",
      " [50  2]\n",
      " [13 88]\n",
      " [88 20]\n",
      " [20 13]\n",
      " [86 19]\n",
      " [19 62]\n",
      " [62 86]\n",
      " [ 7 73]\n",
      " [73 91]\n",
      " [91  7]]\n",
      "[[28 59]\n",
      " [59 66]\n",
      " [28 66]\n",
      " [68 98]\n",
      " [66 68]\n",
      " [66 98]\n",
      " [16 37]\n",
      " [16 37]\n",
      " [37 37]\n",
      " [ 3 68]\n",
      " [ 3  4]\n",
      " [ 4 68]\n",
      " [ 4 70]\n",
      " [70 99]\n",
      " [ 4 99]\n",
      " [30 88]\n",
      " [26 88]\n",
      " [26 30]\n",
      " [ 2 16]\n",
      " [16 50]\n",
      " [ 2 50]\n",
      " [13 88]\n",
      " [20 88]\n",
      " [13 20]\n",
      " [19 86]\n",
      " [19 62]\n",
      " [62 86]\n",
      " [ 7 73]\n",
      " [73 91]\n",
      " [ 7 91]]\n",
      "[[(28, 59)]\n",
      " [(59, 66)]\n",
      " [(28, 66)]\n",
      " [(68, 98)]\n",
      " [(66, 68)]\n",
      " [(66, 98)]\n",
      " [(16, 37)]\n",
      " [(16, 37)]\n",
      " [(37, 37)]\n",
      " [( 3, 68)]\n",
      " [( 3,  4)]\n",
      " [( 4, 68)]\n",
      " [( 4, 70)]\n",
      " [(70, 99)]\n",
      " [( 4, 99)]\n",
      " [(30, 88)]\n",
      " [(26, 88)]\n",
      " [(26, 30)]\n",
      " [( 2, 16)]\n",
      " [(16, 50)]\n",
      " [( 2, 50)]\n",
      " [(13, 88)]\n",
      " [(20, 88)]\n",
      " [(13, 20)]\n",
      " [(19, 86)]\n",
      " [(19, 62)]\n",
      " [(62, 86)]\n",
      " [( 7, 73)]\n",
      " [(73, 91)]\n",
      " [( 7, 91)]]\n",
      "[( 2, 16) ( 2, 50) ( 3,  4) ( 3, 68) ( 4, 68) ( 4, 70) ( 4, 99) ( 7, 73)\n",
      " ( 7, 91) (13, 20) (13, 88) (16, 37) (16, 50) (19, 62) (19, 86) (20, 88)\n",
      " (26, 30) (26, 88) (28, 59) (28, 66) (30, 88) (37, 37) (59, 66) (62, 86)\n",
      " (66, 68) (66, 98) (68, 98) (70, 99) (73, 91)]\n"
     ]
    }
   ],
   "source": [
    "faces = np.random.randint(0,100,(10,3))\n",
    "print(faces)\n",
    "F = np.roll(faces.repeat(2,axis=1),-1,axis=1)\n",
    "print(F)\n",
    "F = F.reshape(len(F)*3,2)\n",
    "print(F)\n",
    "F = np.sort(F,axis=1)\n",
    "print(F)\n",
    "G = F.view( dtype=[('p0',F.dtype),('p1',F.dtype)] )\n",
    "print(G)\n",
    "G = np.unique(G)\n",
    "print(G)"
   ]
  },
  {
   "cell_type": "markdown",
   "metadata": {},
   "source": [
    "#### 74. Given an array C that is a bincount, how to produce an array A such that np.bincount(A) == C? (★★★) \n",
    "(**hint**: np.repeat)"
   ]
  },
  {
   "cell_type": "code",
   "execution_count": 57,
   "metadata": {},
   "outputs": [
    {
     "name": "stdout",
     "output_type": "stream",
     "text": [
      "[0 2 1 1 2 0 1]\n",
      "[0 1 2 3 4 5 6]\n",
      "[1 1 2 3 4 4 6]\n"
     ]
    }
   ],
   "source": [
    "C = np.bincount([1,1,2,3,4,4,6])\n",
    "print(C)\n",
    "print(np.arange(len(C)))\n",
    "A = np.repeat(np.arange(len(C)), C)\n",
    "print(A)"
   ]
  },
  {
   "cell_type": "markdown",
   "metadata": {},
   "source": [
    "#### 75. How to compute averages using a sliding window over an array? (★★★) \n",
    "(**hint**: np.cumsum)"
   ]
  },
  {
   "cell_type": "code",
   "execution_count": 65,
   "metadata": {},
   "outputs": [
    {
     "name": "stdout",
     "output_type": "stream",
     "text": [
      "[  0.   1.   3.   6.  10.  15.  21.  28.  36.  45.  55.  66.  78.  91.\n",
      " 105. 120. 136. 153. 171. 190.]\n",
      "[ 3.  6.  9. 12. 15. 18. 21. 24. 27. 30. 33. 36. 39. 42. 45. 48. 51. 54.]\n",
      "[ 1.  2.  3.  4.  5.  6.  7.  8.  9. 10. 11. 12. 13. 14. 15. 16. 17. 18.]\n"
     ]
    }
   ],
   "source": [
    "def moving_average(a, n=3) :\n",
    "    ret = np.cumsum(a, dtype=float)\n",
    "    print(ret)\n",
    "    #print(ret[n:],ret[:-n])\n",
    "    ret[n:] = ret[n:] - ret[:-n]\n",
    "    #print(ret[n:])\n",
    "    print(ret[n-1:])\n",
    "    return ret[n - 1:] / n\n",
    "Z = np.arange(20)\n",
    "print(moving_average(Z, n=3))"
   ]
  },
  {
   "cell_type": "markdown",
   "metadata": {},
   "source": [
    "#### 76. Consider a one-dimensional array Z, build a two-dimensional array whose first row is (Z\\[0\\],Z\\[1\\],Z\\[2\\]) and each subsequent row is  shifted by 1 (last row should be (Z\\[-3\\],Z\\[-2\\],Z\\[-1\\]) (★★★) \n",
    "(**hint**: from numpy.lib import stride_tricks)"
   ]
  },
  {
   "cell_type": "code",
   "execution_count": 69,
   "metadata": {},
   "outputs": [
    {
     "name": "stdout",
     "output_type": "stream",
     "text": [
      "(8, 3) (4, 4)\n",
      "[[0 1 2]\n",
      " [1 2 3]\n",
      " [2 3 4]\n",
      " [3 4 5]\n",
      " [4 5 6]\n",
      " [5 6 7]\n",
      " [6 7 8]\n",
      " [7 8 9]]\n"
     ]
    }
   ],
   "source": [
    "from numpy.lib import stride_tricks\n",
    "\n",
    "def rolling(a, window):\n",
    "    shape = (a.size - window + 1, window)\n",
    "    strides = (a.strides[0], a.strides[0])\n",
    "    print(shape,strides)\n",
    "    return stride_tricks.as_strided(a, shape=shape, strides=strides)\n",
    "Z = rolling(np.arange(10), 3)\n",
    "print(Z)"
   ]
  },
  {
   "cell_type": "markdown",
   "metadata": {},
   "source": [
    "#### 77. How to negate a boolean, or to change the sign of a float inplace? (★★★) \n",
    "(**hint**: np.logical_not, np.negative)"
   ]
  },
  {
   "cell_type": "code",
   "execution_count": 74,
   "metadata": {},
   "outputs": [
    {
     "name": "stdout",
     "output_type": "stream",
     "text": [
      "[1 0 1 0 1 0 0 1 0 0]\n",
      "[0 1 0 1 0 1 1 0 1 1]\n",
      "[-0.53308549  0.87964475 -0.62911083  0.6565142   0.99015184 -0.37252179\n",
      "  0.68977289  0.29410134 -0.2403482   0.25709434]\n",
      "[ 0.53308549 -0.87964475  0.62911083 -0.6565142  -0.99015184  0.37252179\n",
      " -0.68977289 -0.29410134  0.2403482  -0.25709434]\n"
     ]
    }
   ],
   "source": [
    "Z = np.random.randint(0,2,10)\n",
    "print(Z)\n",
    "print(np.logical_not(Z, out=Z))\n",
    "Z = np.random.uniform(-1.0,1.0,10)\n",
    "print(Z)\n",
    "print(np.negative(Z, out=Z))"
   ]
  },
  {
   "cell_type": "markdown",
   "metadata": {},
   "source": [
    "#### 78. Consider 2 sets of points P0,P1 describing lines (2d) and a point p, how to compute distance from p to each line i  (P0\\[i\\],P1\\[i\\])? (★★★)"
   ]
  },
  {
   "cell_type": "code",
   "execution_count": 81,
   "metadata": {},
   "outputs": [
    {
     "name": "stdout",
     "output_type": "stream",
     "text": [
      "[[ -6.42184428   7.29463348]\n",
      " [ -7.34173679  18.31835071]\n",
      " [-13.96115007  10.86762821]\n",
      " [  4.72945694   0.69234817]\n",
      " [  2.81819217  -3.56042589]\n",
      " [ -5.68781921 -11.06263038]\n",
      " [ 14.14013258  -4.00910057]\n",
      " [ -5.97009419   9.9531625 ]\n",
      " [-10.88500496  -9.35016123]\n",
      " [ -9.41081668   2.6936307 ]]\n",
      "[ 94.4517616  389.4630719  313.01905423  22.84710889  20.61883961\n",
      " 154.73307821 216.01623691 134.7074684  205.90884801  95.819117  ]\n",
      "[5.45727099 4.99138689 0.15574104 5.00990414 5.08888606 3.5512808\n",
      " 4.15819035 0.54018116 5.08337184 2.1399582 ]\n"
     ]
    }
   ],
   "source": [
    "def distance(P0, P1, p):\n",
    "    T = P1 - P0\n",
    "    #print(P1)\n",
    "    #print(P0)\n",
    "    print(T)\n",
    "    L = (T**2).sum(axis=1)\n",
    "    print(L)\n",
    "    U = -((P0[:,0]-p[...,0])*T[:,0] + (P0[:,1]-p[...,1])*T[:,1]) / L\n",
    "    U = U.reshape(len(U),1)\n",
    "    D = P0 + U*T - p\n",
    "    return np.sqrt((D**2).sum(axis=1))\n",
    "P0 = np.random.uniform(-10,10,(10,2))\n",
    "P1 = np.random.uniform(-10,10,(10,2))\n",
    "p  = np.random.uniform(-10,10,( 1,2))\n",
    "print(distance(P0, P1, p))"
   ]
  },
  {
   "cell_type": "markdown",
   "metadata": {},
   "source": [
    "#### 79. Consider 2 sets of points P0,P1 describing lines (2d) and a set of points P, how to compute distance from each point j (P\\[j\\]) to each line i (P0\\[i\\],P1\\[i\\])? (★★★)"
   ]
  },
  {
   "cell_type": "code",
   "execution_count": 82,
   "metadata": {},
   "outputs": [
    {
     "name": "stdout",
     "output_type": "stream",
     "text": [
      "[[ -1.47890088   4.39274227]\n",
      " [  6.73160254   2.01822461]\n",
      " [  5.53773009  -2.3145086 ]\n",
      " [  2.05680561   8.4955332 ]\n",
      " [ -4.95149525 -13.18584047]\n",
      " [ -3.01995628   2.96997595]\n",
      " [ 14.40022716  -0.84241407]\n",
      " [ -0.06397879  -2.17484558]\n",
      " [  7.56062358   1.95490571]\n",
      " [ -2.59518356  -1.36906503]]\n",
      "[ 21.48333245  49.38770339  36.02340456  76.40453367 198.38369405\n",
      "  17.94089306 208.07620373   4.73404659  60.98468533   8.60931675]\n",
      "[[ -1.47890088   4.39274227]\n",
      " [  6.73160254   2.01822461]\n",
      " [  5.53773009  -2.3145086 ]\n",
      " [  2.05680561   8.4955332 ]\n",
      " [ -4.95149525 -13.18584047]\n",
      " [ -3.01995628   2.96997595]\n",
      " [ 14.40022716  -0.84241407]\n",
      " [ -0.06397879  -2.17484558]\n",
      " [  7.56062358   1.95490571]\n",
      " [ -2.59518356  -1.36906503]]\n",
      "[ 21.48333245  49.38770339  36.02340456  76.40453367 198.38369405\n",
      "  17.94089306 208.07620373   4.73404659  60.98468533   8.60931675]\n",
      "[[ -1.47890088   4.39274227]\n",
      " [  6.73160254   2.01822461]\n",
      " [  5.53773009  -2.3145086 ]\n",
      " [  2.05680561   8.4955332 ]\n",
      " [ -4.95149525 -13.18584047]\n",
      " [ -3.01995628   2.96997595]\n",
      " [ 14.40022716  -0.84241407]\n",
      " [ -0.06397879  -2.17484558]\n",
      " [  7.56062358   1.95490571]\n",
      " [ -2.59518356  -1.36906503]]\n",
      "[ 21.48333245  49.38770339  36.02340456  76.40453367 198.38369405\n",
      "  17.94089306 208.07620373   4.73404659  60.98468533   8.60931675]\n",
      "[[ -1.47890088   4.39274227]\n",
      " [  6.73160254   2.01822461]\n",
      " [  5.53773009  -2.3145086 ]\n",
      " [  2.05680561   8.4955332 ]\n",
      " [ -4.95149525 -13.18584047]\n",
      " [ -3.01995628   2.96997595]\n",
      " [ 14.40022716  -0.84241407]\n",
      " [ -0.06397879  -2.17484558]\n",
      " [  7.56062358   1.95490571]\n",
      " [ -2.59518356  -1.36906503]]\n",
      "[ 21.48333245  49.38770339  36.02340456  76.40453367 198.38369405\n",
      "  17.94089306 208.07620373   4.73404659  60.98468533   8.60931675]\n",
      "[[ -1.47890088   4.39274227]\n",
      " [  6.73160254   2.01822461]\n",
      " [  5.53773009  -2.3145086 ]\n",
      " [  2.05680561   8.4955332 ]\n",
      " [ -4.95149525 -13.18584047]\n",
      " [ -3.01995628   2.96997595]\n",
      " [ 14.40022716  -0.84241407]\n",
      " [ -0.06397879  -2.17484558]\n",
      " [  7.56062358   1.95490571]\n",
      " [ -2.59518356  -1.36906503]]\n",
      "[ 21.48333245  49.38770339  36.02340456  76.40453367 198.38369405\n",
      "  17.94089306 208.07620373   4.73404659  60.98468533   8.60931675]\n",
      "[[ -1.47890088   4.39274227]\n",
      " [  6.73160254   2.01822461]\n",
      " [  5.53773009  -2.3145086 ]\n",
      " [  2.05680561   8.4955332 ]\n",
      " [ -4.95149525 -13.18584047]\n",
      " [ -3.01995628   2.96997595]\n",
      " [ 14.40022716  -0.84241407]\n",
      " [ -0.06397879  -2.17484558]\n",
      " [  7.56062358   1.95490571]\n",
      " [ -2.59518356  -1.36906503]]\n",
      "[ 21.48333245  49.38770339  36.02340456  76.40453367 198.38369405\n",
      "  17.94089306 208.07620373   4.73404659  60.98468533   8.60931675]\n",
      "[[ -1.47890088   4.39274227]\n",
      " [  6.73160254   2.01822461]\n",
      " [  5.53773009  -2.3145086 ]\n",
      " [  2.05680561   8.4955332 ]\n",
      " [ -4.95149525 -13.18584047]\n",
      " [ -3.01995628   2.96997595]\n",
      " [ 14.40022716  -0.84241407]\n",
      " [ -0.06397879  -2.17484558]\n",
      " [  7.56062358   1.95490571]\n",
      " [ -2.59518356  -1.36906503]]\n",
      "[ 21.48333245  49.38770339  36.02340456  76.40453367 198.38369405\n",
      "  17.94089306 208.07620373   4.73404659  60.98468533   8.60931675]\n",
      "[[ -1.47890088   4.39274227]\n",
      " [  6.73160254   2.01822461]\n",
      " [  5.53773009  -2.3145086 ]\n",
      " [  2.05680561   8.4955332 ]\n",
      " [ -4.95149525 -13.18584047]\n",
      " [ -3.01995628   2.96997595]\n",
      " [ 14.40022716  -0.84241407]\n",
      " [ -0.06397879  -2.17484558]\n",
      " [  7.56062358   1.95490571]\n",
      " [ -2.59518356  -1.36906503]]\n",
      "[ 21.48333245  49.38770339  36.02340456  76.40453367 198.38369405\n",
      "  17.94089306 208.07620373   4.73404659  60.98468533   8.60931675]\n",
      "[[ -1.47890088   4.39274227]\n",
      " [  6.73160254   2.01822461]\n",
      " [  5.53773009  -2.3145086 ]\n",
      " [  2.05680561   8.4955332 ]\n",
      " [ -4.95149525 -13.18584047]\n",
      " [ -3.01995628   2.96997595]\n",
      " [ 14.40022716  -0.84241407]\n",
      " [ -0.06397879  -2.17484558]\n",
      " [  7.56062358   1.95490571]\n",
      " [ -2.59518356  -1.36906503]]\n",
      "[ 21.48333245  49.38770339  36.02340456  76.40453367 198.38369405\n",
      "  17.94089306 208.07620373   4.73404659  60.98468533   8.60931675]\n",
      "[[ -1.47890088   4.39274227]\n",
      " [  6.73160254   2.01822461]\n",
      " [  5.53773009  -2.3145086 ]\n",
      " [  2.05680561   8.4955332 ]\n",
      " [ -4.95149525 -13.18584047]\n",
      " [ -3.01995628   2.96997595]\n",
      " [ 14.40022716  -0.84241407]\n",
      " [ -0.06397879  -2.17484558]\n",
      " [  7.56062358   1.95490571]\n",
      " [ -2.59518356  -1.36906503]]\n",
      "[ 21.48333245  49.38770339  36.02340456  76.40453367 198.38369405\n",
      "  17.94089306 208.07620373   4.73404659  60.98468533   8.60931675]\n",
      "[[1.01142484e+01 3.55198435e+00 4.15016673e+00 5.68539719e+00\n",
      "  2.57720128e+00 4.58248105e+00 3.91226038e+00 4.72741440e+00\n",
      "  4.44092650e+00 4.07793604e+00]\n",
      " [1.43703552e+01 9.21629688e+00 2.80969194e+00 6.34074486e+00\n",
      "  2.38485049e+00 1.71130293e+00 1.06278386e+01 6.80329999e+00\n",
      "  1.37488920e+00 6.94932722e-01]\n",
      " [1.28673191e+01 6.45792562e+00 2.18061325e-01 6.51365704e+00\n",
      "  2.93202899e+00 8.54147087e-01 7.55279395e+00 6.33323817e+00\n",
      "  1.43545955e+00 1.73928078e+00]\n",
      " [9.64077970e+00 2.56038797e+00 9.04600616e+00 8.53682451e+00\n",
      "  6.06464773e+00 7.76192646e+00 1.92233087e+00 6.39880110e+00\n",
      "  1.05591195e+01 1.00235472e+01]\n",
      " [7.68589380e+00 2.14529607e+00 6.74902305e+00 4.33792639e+00\n",
      "  1.53304496e+00 7.34805046e+00 1.77435274e+00 2.90968950e+00\n",
      "  5.93772924e+00 4.99850694e+00]\n",
      " [7.03488776e+00 8.11663388e+00 2.67292844e+00 5.90310317e-01\n",
      "  2.76056624e+00 5.21843088e+00 7.09256517e+00 2.19498110e-01\n",
      "  3.32633188e-03 1.02487913e+00]\n",
      " [7.90345501e+00 7.80341893e+00 2.35711834e+00 1.50772882e+00\n",
      "  1.87096992e+00 4.59843874e+00 7.09966935e+00 1.15292895e+00\n",
      "  2.82666441e-01 5.47856216e-01]\n",
      " [1.15254024e+00 8.52463926e+00 6.09976507e+00 4.70901067e+00\n",
      "  7.70217245e+00 1.01921047e+01 5.45457309e+00 5.50765104e+00\n",
      "  1.78710557e-01 2.56339250e+00]\n",
      " [8.96679309e+00 5.79915666e+00 3.18902679e+00 3.49544278e+00\n",
      "  2.42840034e-01 4.57241392e+00 5.60425618e+00 2.85809058e+00\n",
      "  2.24219569e+00 1.63696329e+00]\n",
      " [6.99655058e+00 1.26500918e+01 7.11024267e-01 1.86103776e+00\n",
      "  5.65728469e+00 3.20183404e+00 1.12864655e+01 1.38999620e+00\n",
      "  4.51954044e+00 5.50984286e+00]]\n"
     ]
    }
   ],
   "source": [
    "P0 = np.random.uniform(-10, 10, (10,2))\n",
    "P1 = np.random.uniform(-10,10,(10,2))\n",
    "p = np.random.uniform(-10, 10, (10,2))\n",
    "print(np.array([distance(P0,P1,p_i) for p_i in p]))"
   ]
  },
  {
   "cell_type": "markdown",
   "metadata": {},
   "source": [
    "#### 80. Consider an arbitrary array, write a function that extract a subpart with a fixed shape and centered on a given element (pad with a `fill` value when necessary) (★★★) \n",
    "(**hint**: minimum, maximum)"
   ]
  },
  {
   "cell_type": "code",
   "execution_count": 83,
   "metadata": {},
   "outputs": [
    {
     "name": "stdout",
     "output_type": "stream",
     "text": [
      "[[8 0 9 3 9 3 5 7 4 5]\n",
      " [8 3 5 9 1 8 7 8 1 0]\n",
      " [2 1 4 2 2 0 1 7 9 9]\n",
      " [5 7 7 0 4 9 0 6 6 2]\n",
      " [8 2 3 4 0 0 8 9 4 7]\n",
      " [9 3 1 6 4 3 8 2 2 3]\n",
      " [8 3 7 1 7 6 0 5 8 3]\n",
      " [1 5 5 5 6 7 9 2 9 9]\n",
      " [8 3 3 9 5 3 7 8 6 0]\n",
      " [7 8 4 0 7 9 2 6 3 8]]\n",
      "[[0 0 0 0 0]\n",
      " [0 8 0 9 3]\n",
      " [0 8 3 5 9]\n",
      " [0 2 1 4 2]\n",
      " [0 5 7 7 0]]\n"
     ]
    },
    {
     "name": "stderr",
     "output_type": "stream",
     "text": [
      "C:\\Users\\JYOTIM\\AppData\\Local\\Temp/ipykernel_7480/1159162857.py:23: FutureWarning: Using a non-tuple sequence for multidimensional indexing is deprecated; use `arr[tuple(seq)]` instead of `arr[seq]`. In the future this will be interpreted as an array index, `arr[np.array(seq)]`, which will result either in an error or a different result.\n",
      "  R[r] = Z[z]\n"
     ]
    }
   ],
   "source": [
    "Z = np.random.randint(0,10,(10,10))\n",
    "shape = (5,5)\n",
    "fill  = 0\n",
    "position = (1,1)\n",
    "\n",
    "R = np.ones(shape, dtype=Z.dtype)*fill\n",
    "P  = np.array(list(position)).astype(int)\n",
    "Rs = np.array(list(R.shape)).astype(int)\n",
    "Zs = np.array(list(Z.shape)).astype(int)\n",
    "\n",
    "R_start = np.zeros((len(shape),)).astype(int)\n",
    "R_stop  = np.array(list(shape)).astype(int)\n",
    "Z_start = (P-Rs//2)\n",
    "Z_stop  = (P+Rs//2)+Rs%2\n",
    "\n",
    "R_start = (R_start - np.minimum(Z_start,0)).tolist()\n",
    "Z_start = (np.maximum(Z_start,0)).tolist()\n",
    "R_stop = np.maximum(R_start, (R_stop - np.maximum(Z_stop-Zs,0))).tolist()\n",
    "Z_stop = (np.minimum(Z_stop,Zs)).tolist()\n",
    "\n",
    "r = [slice(start,stop) for start,stop in zip(R_start,R_stop)]\n",
    "z = [slice(start,stop) for start,stop in zip(Z_start,Z_stop)]\n",
    "R[r] = Z[z]\n",
    "print(Z)\n",
    "print(R)"
   ]
  },
  {
   "cell_type": "markdown",
   "metadata": {},
   "source": [
    "#### 81. Consider an array Z = \\[1,2,3,4,5,6,7,8,9,10,11,12,13,14\\], how to generate an array R = \\[\\[1,2,3,4\\], \\[2,3,4,5\\], \\[3,4,5,6\\], ..., \\[11,12,13,14\\]\\]? (★★★) \n",
    "(**hint**: stride\\_tricks.as\\_strided)"
   ]
  },
  {
   "cell_type": "code",
   "execution_count": 86,
   "metadata": {},
   "outputs": [
    {
     "name": "stdout",
     "output_type": "stream",
     "text": [
      "[[ 1  2  3  4]\n",
      " [ 2  3  4  5]\n",
      " [ 3  4  5  6]\n",
      " [ 4  5  6  7]\n",
      " [ 5  6  7  8]\n",
      " [ 6  7  8  9]\n",
      " [ 7  8  9 10]\n",
      " [ 8  9 10 11]\n",
      " [ 9 10 11 12]\n",
      " [10 11 12 13]\n",
      " [11 12 13 14]]\n"
     ]
    }
   ],
   "source": [
    "Z = np.arange(1,15,dtype=np.uint32)\n",
    "R = stride_tricks.as_strided(Z,(11,4),(4,4))\n",
    "print(R)\n"
   ]
  },
  {
   "cell_type": "markdown",
   "metadata": {},
   "source": [
    "#### 82. Compute a matrix rank (★★★) \n",
    "(**hint**: np.linalg.svd) (suggestion: np.linalg.svd)"
   ]
  },
  {
   "cell_type": "code",
   "execution_count": 88,
   "metadata": {},
   "outputs": [
    {
     "name": "stdout",
     "output_type": "stream",
     "text": [
      "10\n"
     ]
    }
   ],
   "source": [
    "Z = np.random.uniform(0,1,(10,10))\n",
    "rank = np.linalg.matrix_rank(Z)\n",
    "print(rank)"
   ]
  },
  {
   "cell_type": "markdown",
   "metadata": {},
   "source": [
    "#### 83. How to find the most frequent value in an array? \n",
    "(**hint**: np.bincount, argmax)"
   ]
  },
  {
   "cell_type": "code",
   "execution_count": 89,
   "metadata": {},
   "outputs": [
    {
     "name": "stdout",
     "output_type": "stream",
     "text": [
      "4\n"
     ]
    }
   ],
   "source": [
    "Z = np.random.randint(0,10,50)\n",
    "print(np.bincount(Z).argmax())"
   ]
  },
  {
   "cell_type": "markdown",
   "metadata": {},
   "source": [
    "#### 84. Extract all the contiguous 3x3 blocks from a random 10x10 matrix (★★★) \n",
    "(**hint**: stride\\_tricks.as\\_strided)"
   ]
  },
  {
   "cell_type": "code",
   "execution_count": 91,
   "metadata": {},
   "outputs": [
    {
     "name": "stdout",
     "output_type": "stream",
     "text": [
      "[[[[4 4 1]\n",
      "   [0 4 1]\n",
      "   [3 3 4]]\n",
      "\n",
      "  [[4 1 2]\n",
      "   [4 1 2]\n",
      "   [3 4 1]]\n",
      "\n",
      "  [[1 2 1]\n",
      "   [1 2 4]\n",
      "   [4 1 4]]\n",
      "\n",
      "  [[2 1 0]\n",
      "   [2 4 2]\n",
      "   [1 4 2]]\n",
      "\n",
      "  [[1 0 0]\n",
      "   [4 2 2]\n",
      "   [4 2 1]]\n",
      "\n",
      "  [[0 0 3]\n",
      "   [2 2 1]\n",
      "   [2 1 3]]\n",
      "\n",
      "  [[0 3 2]\n",
      "   [2 1 3]\n",
      "   [1 3 2]]\n",
      "\n",
      "  [[3 2 0]\n",
      "   [1 3 2]\n",
      "   [3 2 1]]]\n",
      "\n",
      "\n",
      " [[[0 4 1]\n",
      "   [3 3 4]\n",
      "   [1 2 2]]\n",
      "\n",
      "  [[4 1 2]\n",
      "   [3 4 1]\n",
      "   [2 2 3]]\n",
      "\n",
      "  [[1 2 4]\n",
      "   [4 1 4]\n",
      "   [2 3 3]]\n",
      "\n",
      "  [[2 4 2]\n",
      "   [1 4 2]\n",
      "   [3 3 0]]\n",
      "\n",
      "  [[4 2 2]\n",
      "   [4 2 1]\n",
      "   [3 0 2]]\n",
      "\n",
      "  [[2 2 1]\n",
      "   [2 1 3]\n",
      "   [0 2 2]]\n",
      "\n",
      "  [[2 1 3]\n",
      "   [1 3 2]\n",
      "   [2 2 1]]\n",
      "\n",
      "  [[1 3 2]\n",
      "   [3 2 1]\n",
      "   [2 1 2]]]\n",
      "\n",
      "\n",
      " [[[3 3 4]\n",
      "   [1 2 2]\n",
      "   [0 4 2]]\n",
      "\n",
      "  [[3 4 1]\n",
      "   [2 2 3]\n",
      "   [4 2 3]]\n",
      "\n",
      "  [[4 1 4]\n",
      "   [2 3 3]\n",
      "   [2 3 0]]\n",
      "\n",
      "  [[1 4 2]\n",
      "   [3 3 0]\n",
      "   [3 0 3]]\n",
      "\n",
      "  [[4 2 1]\n",
      "   [3 0 2]\n",
      "   [0 3 2]]\n",
      "\n",
      "  [[2 1 3]\n",
      "   [0 2 2]\n",
      "   [3 2 0]]\n",
      "\n",
      "  [[1 3 2]\n",
      "   [2 2 1]\n",
      "   [2 0 4]]\n",
      "\n",
      "  [[3 2 1]\n",
      "   [2 1 2]\n",
      "   [0 4 1]]]\n",
      "\n",
      "\n",
      " [[[1 2 2]\n",
      "   [0 4 2]\n",
      "   [1 1 4]]\n",
      "\n",
      "  [[2 2 3]\n",
      "   [4 2 3]\n",
      "   [1 4 0]]\n",
      "\n",
      "  [[2 3 3]\n",
      "   [2 3 0]\n",
      "   [4 0 1]]\n",
      "\n",
      "  [[3 3 0]\n",
      "   [3 0 3]\n",
      "   [0 1 3]]\n",
      "\n",
      "  [[3 0 2]\n",
      "   [0 3 2]\n",
      "   [1 3 4]]\n",
      "\n",
      "  [[0 2 2]\n",
      "   [3 2 0]\n",
      "   [3 4 4]]\n",
      "\n",
      "  [[2 2 1]\n",
      "   [2 0 4]\n",
      "   [4 4 0]]\n",
      "\n",
      "  [[2 1 2]\n",
      "   [0 4 1]\n",
      "   [4 0 4]]]\n",
      "\n",
      "\n",
      " [[[0 4 2]\n",
      "   [1 1 4]\n",
      "   [2 2 2]]\n",
      "\n",
      "  [[4 2 3]\n",
      "   [1 4 0]\n",
      "   [2 2 2]]\n",
      "\n",
      "  [[2 3 0]\n",
      "   [4 0 1]\n",
      "   [2 2 2]]\n",
      "\n",
      "  [[3 0 3]\n",
      "   [0 1 3]\n",
      "   [2 2 4]]\n",
      "\n",
      "  [[0 3 2]\n",
      "   [1 3 4]\n",
      "   [2 4 1]]\n",
      "\n",
      "  [[3 2 0]\n",
      "   [3 4 4]\n",
      "   [4 1 2]]\n",
      "\n",
      "  [[2 0 4]\n",
      "   [4 4 0]\n",
      "   [1 2 2]]\n",
      "\n",
      "  [[0 4 1]\n",
      "   [4 0 4]\n",
      "   [2 2 0]]]\n",
      "\n",
      "\n",
      " [[[1 1 4]\n",
      "   [2 2 2]\n",
      "   [0 1 0]]\n",
      "\n",
      "  [[1 4 0]\n",
      "   [2 2 2]\n",
      "   [1 0 2]]\n",
      "\n",
      "  [[4 0 1]\n",
      "   [2 2 2]\n",
      "   [0 2 2]]\n",
      "\n",
      "  [[0 1 3]\n",
      "   [2 2 4]\n",
      "   [2 2 4]]\n",
      "\n",
      "  [[1 3 4]\n",
      "   [2 4 1]\n",
      "   [2 4 3]]\n",
      "\n",
      "  [[3 4 4]\n",
      "   [4 1 2]\n",
      "   [4 3 1]]\n",
      "\n",
      "  [[4 4 0]\n",
      "   [1 2 2]\n",
      "   [3 1 3]]\n",
      "\n",
      "  [[4 0 4]\n",
      "   [2 2 0]\n",
      "   [1 3 2]]]\n",
      "\n",
      "\n",
      " [[[2 2 2]\n",
      "   [0 1 0]\n",
      "   [1 2 3]]\n",
      "\n",
      "  [[2 2 2]\n",
      "   [1 0 2]\n",
      "   [2 3 4]]\n",
      "\n",
      "  [[2 2 2]\n",
      "   [0 2 2]\n",
      "   [3 4 1]]\n",
      "\n",
      "  [[2 2 4]\n",
      "   [2 2 4]\n",
      "   [4 1 1]]\n",
      "\n",
      "  [[2 4 1]\n",
      "   [2 4 3]\n",
      "   [1 1 0]]\n",
      "\n",
      "  [[4 1 2]\n",
      "   [4 3 1]\n",
      "   [1 0 1]]\n",
      "\n",
      "  [[1 2 2]\n",
      "   [3 1 3]\n",
      "   [0 1 4]]\n",
      "\n",
      "  [[2 2 0]\n",
      "   [1 3 2]\n",
      "   [1 4 3]]]\n",
      "\n",
      "\n",
      " [[[0 1 0]\n",
      "   [1 2 3]\n",
      "   [1 0 1]]\n",
      "\n",
      "  [[1 0 2]\n",
      "   [2 3 4]\n",
      "   [0 1 2]]\n",
      "\n",
      "  [[0 2 2]\n",
      "   [3 4 1]\n",
      "   [1 2 2]]\n",
      "\n",
      "  [[2 2 4]\n",
      "   [4 1 1]\n",
      "   [2 2 0]]\n",
      "\n",
      "  [[2 4 3]\n",
      "   [1 1 0]\n",
      "   [2 0 3]]\n",
      "\n",
      "  [[4 3 1]\n",
      "   [1 0 1]\n",
      "   [0 3 0]]\n",
      "\n",
      "  [[3 1 3]\n",
      "   [0 1 4]\n",
      "   [3 0 3]]\n",
      "\n",
      "  [[1 3 2]\n",
      "   [1 4 3]\n",
      "   [0 3 4]]]]\n"
     ]
    }
   ],
   "source": [
    "from numpy.lib.stride_tricks import sliding_window_view \n",
    "Z = np.random.randint(0,5,(10,10))\n",
    "print(sliding_window_view(Z, window_shape=(3, 3)))"
   ]
  },
  {
   "cell_type": "markdown",
   "metadata": {},
   "source": [
    "#### 85. Create a 2D array subclass such that Z\\[i,j\\] == Z\\[j,i\\] (★★★) \n",
    "(**hint**: class method)"
   ]
  },
  {
   "cell_type": "code",
   "execution_count": 98,
   "metadata": {},
   "outputs": [
    {
     "name": "stdout",
     "output_type": "stream",
     "text": [
      "[[  29.    173.     92.2   299.  ]\n",
      " [ 173.   2098.    423.4  1786.  ]\n",
      " [  92.2   423.4  1205.64  963.8 ]\n",
      " [ 299.   1786.    963.8  3083.  ]]\n"
     ]
    }
   ],
   "source": [
    "M = np.array([[2,3,4], [3,45,8], [34,7,0.8], [21,31,41]])\n",
    "\n",
    "S = np.matmul(M,M.T)\n",
    "\n",
    "print( S)"
   ]
  },
  {
   "cell_type": "markdown",
   "metadata": {},
   "source": [
    "#### 86. Consider a set of p matrices wich shape (n,n) and a set of p vectors with shape (n,1). How to compute the sum of of the p matrix products at once? (result has shape (n,1)) (★★★) \n",
    "(**hint**: np.tensordot)"
   ]
  },
  {
   "cell_type": "code",
   "execution_count": 99,
   "metadata": {},
   "outputs": [
    {
     "name": "stdout",
     "output_type": "stream",
     "text": [
      "[[200.]\n",
      " [200.]\n",
      " [200.]\n",
      " [200.]\n",
      " [200.]\n",
      " [200.]\n",
      " [200.]\n",
      " [200.]\n",
      " [200.]\n",
      " [200.]\n",
      " [200.]\n",
      " [200.]\n",
      " [200.]\n",
      " [200.]\n",
      " [200.]\n",
      " [200.]\n",
      " [200.]\n",
      " [200.]\n",
      " [200.]\n",
      " [200.]]\n"
     ]
    }
   ],
   "source": [
    "p, n = 10, 20\n",
    "M = np.ones((p,n,n))\n",
    "V = np.ones((p,n,1))\n",
    "S = np.tensordot(M, V, axes=[[0, 2], [0, 1]])\n",
    "print(S)"
   ]
  },
  {
   "cell_type": "markdown",
   "metadata": {},
   "source": [
    "#### 87. Consider a 16x16 array, how to get the block-sum (block size is 4x4)? (★★★) \n",
    "(**hint**: np.add.reduceat)"
   ]
  },
  {
   "cell_type": "code",
   "execution_count": 100,
   "metadata": {},
   "outputs": [
    {
     "name": "stdout",
     "output_type": "stream",
     "text": [
      "[[16. 16. 16. 16.]\n",
      " [16. 16. 16. 16.]\n",
      " [16. 16. 16. 16.]\n",
      " [16. 16. 16. 16.]]\n"
     ]
    }
   ],
   "source": [
    "Z = np.ones((16,16))\n",
    "k = 4\n",
    "S = np.add.reduceat(np.add.reduceat(Z, np.arange(0, Z.shape[0], k), axis=0),\n",
    "                                       np.arange(0, Z.shape[1], k), axis=1)\n",
    "print(S)"
   ]
  },
  {
   "cell_type": "markdown",
   "metadata": {},
   "source": [
    "#### 88. How to implement the Game of Life using numpy arrays? (★★★)"
   ]
  },
  {
   "cell_type": "code",
   "execution_count": 101,
   "metadata": {},
   "outputs": [
    {
     "name": "stdout",
     "output_type": "stream",
     "text": [
      "[[0 0 0 ... 0 0 0]\n",
      " [0 0 0 ... 0 0 0]\n",
      " [0 0 0 ... 0 0 0]\n",
      " ...\n",
      " [0 0 0 ... 0 0 0]\n",
      " [0 0 0 ... 0 0 0]\n",
      " [0 0 0 ... 0 0 0]]\n"
     ]
    }
   ],
   "source": [
    "def iterate(Z):\n",
    "\n",
    "    N = (Z[0:-2,0:-2] + Z[0:-2,1:-1] + Z[0:-2,2:] +\n",
    "         Z[1:-1,0:-2]                + Z[1:-1,2:] +\n",
    "         Z[2:  ,0:-2] + Z[2:  ,1:-1] + Z[2:  ,2:])\n",
    "\n",
    "    birth = (N==3) & (Z[1:-1,1:-1]==0)\n",
    "    survive = ((N==2) | (N==3)) & (Z[1:-1,1:-1]==1)\n",
    "    Z[...] = 0\n",
    "    Z[1:-1,1:-1][birth | survive] = 1\n",
    "    return Z\n",
    "\n",
    "Z = np.random.randint(0,2,(50,50))\n",
    "for i in range(100): Z = iterate(Z)\n",
    "print(Z)"
   ]
  },
  {
   "cell_type": "markdown",
   "metadata": {},
   "source": [
    "#### 89. How to get the n largest values of an array (★★★) \n",
    "(**hint**: np.argsort | np.argpartition)"
   ]
  },
  {
   "cell_type": "code",
   "execution_count": 102,
   "metadata": {},
   "outputs": [
    {
     "name": "stdout",
     "output_type": "stream",
     "text": [
      "[[[0 0 1 ... 0 0 0]\n",
      "  [0 0 0 ... 0 0 0]\n",
      "  [0 0 0 ... 0 0 0]\n",
      "  ...\n",
      "  [0 0 0 ... 0 0 0]\n",
      "  [0 0 0 ... 0 0 0]\n",
      "  [0 0 0 ... 0 0 0]]\n",
      "\n",
      " [[0 0 1 ... 0 0 0]\n",
      "  [0 0 0 ... 0 0 0]\n",
      "  [0 0 0 ... 0 0 0]\n",
      "  ...\n",
      "  [0 0 0 ... 0 0 0]\n",
      "  [0 0 0 ... 0 0 0]\n",
      "  [0 0 0 ... 0 0 0]]\n",
      "\n",
      " [[0 0 1 ... 0 0 0]\n",
      "  [0 0 0 ... 0 0 0]\n",
      "  [0 0 0 ... 0 0 0]\n",
      "  ...\n",
      "  [0 0 0 ... 0 0 0]\n",
      "  [0 0 0 ... 0 0 0]\n",
      "  [0 0 0 ... 0 0 0]]\n",
      "\n",
      " ...\n",
      "\n",
      " [[0 0 1 ... 0 0 0]\n",
      "  [0 0 0 ... 0 0 0]\n",
      "  [0 0 0 ... 0 0 0]\n",
      "  ...\n",
      "  [0 0 0 ... 0 0 0]\n",
      "  [0 0 0 ... 0 0 0]\n",
      "  [0 0 0 ... 0 0 0]]\n",
      "\n",
      " [[0 0 1 ... 0 0 0]\n",
      "  [0 0 0 ... 0 0 0]\n",
      "  [0 0 0 ... 0 0 0]\n",
      "  ...\n",
      "  [0 0 0 ... 0 0 0]\n",
      "  [0 0 0 ... 0 0 0]\n",
      "  [0 0 0 ... 0 0 0]]\n",
      "\n",
      " [[0 0 1 ... 0 0 0]\n",
      "  [0 0 0 ... 0 0 0]\n",
      "  [0 0 0 ... 0 0 0]\n",
      "  ...\n",
      "  [0 0 0 ... 0 0 0]\n",
      "  [0 0 0 ... 0 0 0]\n",
      "  [0 0 0 ... 0 0 0]]]\n"
     ]
    }
   ],
   "source": [
    "print (Z[np.argpartition(-Z,n)[:n]])"
   ]
  },
  {
   "cell_type": "markdown",
   "metadata": {},
   "source": [
    "#### 90. Given an arbitrary number of vectors, build the cartesian product (every combinations of every item) (★★★) \n",
    "(**hint**: np.indices)"
   ]
  },
  {
   "cell_type": "code",
   "execution_count": 103,
   "metadata": {
    "scrolled": true
   },
   "outputs": [
    {
     "name": "stdout",
     "output_type": "stream",
     "text": [
      "[[1 4 6]\n",
      " [1 4 7]\n",
      " [1 5 6]\n",
      " [1 5 7]\n",
      " [2 4 6]\n",
      " [2 4 7]\n",
      " [2 5 6]\n",
      " [2 5 7]\n",
      " [3 4 6]\n",
      " [3 4 7]\n",
      " [3 5 6]\n",
      " [3 5 7]]\n"
     ]
    }
   ],
   "source": [
    "def cartesian(arrays):\n",
    "    arrays = [np.asarray(a) for a in arrays]\n",
    "    shape = (len(x) for x in arrays)\n",
    "\n",
    "    ix = np.indices(shape, dtype=int)\n",
    "    ix = ix.reshape(len(arrays), -1).T\n",
    "\n",
    "    for n, arr in enumerate(arrays):\n",
    "        ix[:, n] = arrays[n][ix[:, n]]\n",
    "\n",
    "    return ix\n",
    "\n",
    "print (cartesian(([1, 2, 3], [4, 5], [6, 7])))"
   ]
  },
  {
   "cell_type": "markdown",
   "metadata": {},
   "source": [
    "#### 91. How to create a record array from a regular array? (★★★) \n",
    "(**hint**: np.core.records.fromarrays)"
   ]
  },
  {
   "cell_type": "code",
   "execution_count": 104,
   "metadata": {},
   "outputs": [
    {
     "name": "stdout",
     "output_type": "stream",
     "text": [
      "[(b'Hello', 2.5, 3) (b'World', 3.6, 2)]\n"
     ]
    }
   ],
   "source": [
    "Z = np.array([(\"Hello\", 2.5, 3),\n",
    "              (\"World\", 3.6, 2)])\n",
    "R = np.core.records.fromarrays(Z.T,\n",
    "                               names='col1, col2, col3',\n",
    "                               formats = 'S8, f8, i8')\n",
    "print(R)"
   ]
  },
  {
   "cell_type": "markdown",
   "metadata": {},
   "source": [
    "#### 92. Consider a large vector Z, compute Z to the power of 3 using 3 different methods (★★★) \n",
    "(**hint**: np.power, \\*, np.einsum)"
   ]
  },
  {
   "cell_type": "code",
   "execution_count": 105,
   "metadata": {},
   "outputs": [
    {
     "name": "stdout",
     "output_type": "stream",
     "text": [
      "4.2 s ± 246 ms per loop (mean ± std. dev. of 7 runs, 1 loop each)\n",
      "570 ms ± 44.5 ms per loop (mean ± std. dev. of 7 runs, 1 loop each)\n",
      "391 ms ± 9.44 ms per loop (mean ± std. dev. of 7 runs, 1 loop each)\n"
     ]
    }
   ],
   "source": [
    "x = np.random.rand(int(5e7))\n",
    "\n",
    "%timeit np.power(x,3)\n",
    "%timeit x*x*x\n",
    "%timeit np.einsum('i,i,i->i',x,x,x)"
   ]
  },
  {
   "cell_type": "markdown",
   "metadata": {},
   "source": [
    "#### 93. Consider two arrays A and B of shape (8,3) and (2,2). How to find rows of A that contain elements of each row of B regardless of the order of the elements in B? (★★★) \n",
    "(**hint**: np.where)"
   ]
  },
  {
   "cell_type": "code",
   "execution_count": 108,
   "metadata": {},
   "outputs": [
    {
     "name": "stdout",
     "output_type": "stream",
     "text": [
      "[1 2 3 4 6 7]\n"
     ]
    }
   ],
   "source": [
    "A = np.random.randint(0,5,(8,3))\n",
    "B = np.random.randint(0,5,(2,2))\n",
    "\n",
    "C = (A[..., np.newaxis, np.newaxis] == B)\n",
    "rows = np.where(C.any((3,1)).all(1))[0]\n",
    "print(rows)"
   ]
  },
  {
   "cell_type": "markdown",
   "metadata": {},
   "source": [
    "#### 94. Considering a 10x3 matrix, extract rows with unequal values (e.g. \\[2,2,3\\]) (★★★)"
   ]
  },
  {
   "cell_type": "code",
   "execution_count": 109,
   "metadata": {},
   "outputs": [
    {
     "name": "stdout",
     "output_type": "stream",
     "text": [
      "[[0 2 2]\n",
      " [2 3 3]\n",
      " [4 3 3]\n",
      " [4 0 0]\n",
      " [0 1 4]\n",
      " [0 2 4]\n",
      " [4 2 3]\n",
      " [3 4 4]\n",
      " [4 2 4]\n",
      " [3 1 3]]\n",
      "[[0 2 2]\n",
      " [2 3 3]\n",
      " [4 3 3]\n",
      " [4 0 0]\n",
      " [0 1 4]\n",
      " [0 2 4]\n",
      " [4 2 3]\n",
      " [3 4 4]\n",
      " [4 2 4]\n",
      " [3 1 3]]\n",
      "[[0 2 2]\n",
      " [2 3 3]\n",
      " [4 3 3]\n",
      " [4 0 0]\n",
      " [0 1 4]\n",
      " [0 2 4]\n",
      " [4 2 3]\n",
      " [3 4 4]\n",
      " [4 2 4]\n",
      " [3 1 3]]\n"
     ]
    }
   ],
   "source": [
    "Z = np.random.randint(0,5,(10,3))\n",
    "print(Z)\n",
    "E = np.all(Z[:,1:] == Z[:,:-1], axis=1)\n",
    "U = Z[~E]\n",
    "print(U)\n",
    "U = Z[Z.max(axis=1) != Z.min(axis=1),:]\n",
    "print(U)"
   ]
  },
  {
   "cell_type": "markdown",
   "metadata": {},
   "source": [
    "#### 95. Convert a vector of ints into a matrix binary representation (★★★) \n",
    "(**hint**: np.unpackbits)"
   ]
  },
  {
   "cell_type": "code",
   "execution_count": 110,
   "metadata": {},
   "outputs": [
    {
     "name": "stdout",
     "output_type": "stream",
     "text": [
      "[[0 0 0 0 0 0 0 0]\n",
      " [0 0 0 0 0 0 0 1]\n",
      " [0 0 0 0 0 0 1 0]\n",
      " [0 0 0 0 0 0 1 1]\n",
      " [0 0 0 0 1 1 1 1]\n",
      " [0 0 0 1 0 0 0 0]\n",
      " [0 0 1 0 0 0 0 0]\n",
      " [0 1 0 0 0 0 0 0]\n",
      " [1 0 0 0 0 0 0 0]]\n"
     ]
    }
   ],
   "source": [
    "I = np.array([0, 1, 2, 3, 15, 16, 32, 64, 128])\n",
    "B = ((I.reshape(-1,1) & (2**np.arange(8))) != 0).astype(int)\n",
    "print(B[:,::-1])\n"
   ]
  },
  {
   "cell_type": "markdown",
   "metadata": {},
   "source": [
    "#### 96. Given a two dimensional array, how to extract unique rows? (★★★) \n",
    "(**hint**: np.ascontiguousarray)"
   ]
  },
  {
   "cell_type": "code",
   "execution_count": 111,
   "metadata": {},
   "outputs": [
    {
     "name": "stdout",
     "output_type": "stream",
     "text": [
      "[[0 0 0]\n",
      " [0 0 1]\n",
      " [0 1 0]\n",
      " [0 1 1]\n",
      " [1 0 0]]\n"
     ]
    }
   ],
   "source": [
    "Z = np.random.randint(0,2,(6,3))\n",
    "T = np.ascontiguousarray(Z).view(np.dtype((np.void, Z.dtype.itemsize * Z.shape[1])))\n",
    "_, idx = np.unique(T, return_index=True)\n",
    "uZ = Z[idx]\n",
    "print(uZ)\n"
   ]
  },
  {
   "cell_type": "markdown",
   "metadata": {},
   "source": [
    "#### 97. Considering 2 vectors A & B, write the einsum equivalent of inner, outer, sum, and mul function (★★★) \n",
    "(**hint**: np.einsum)"
   ]
  },
  {
   "cell_type": "code",
   "execution_count": 112,
   "metadata": {},
   "outputs": [
    {
     "data": {
      "text/plain": [
       "array([[0.35294067, 0.64062987, 0.1369811 , 0.53740343, 0.52213332,\n",
       "        0.46252495, 0.47191857, 0.20641198, 0.22766719, 0.0142698 ],\n",
       "       [0.51000852, 0.92572694, 0.19794127, 0.77656203, 0.75449633,\n",
       "        0.66836067, 0.6819347 , 0.29827072, 0.32898505, 0.02062023],\n",
       "       [0.20536935, 0.37277013, 0.07970665, 0.31270466, 0.30381928,\n",
       "        0.26913432, 0.27460029, 0.12010714, 0.13247513, 0.00830332],\n",
       "       [0.5192611 , 0.94252149, 0.20153233, 0.79065043, 0.76818442,\n",
       "        0.68048608, 0.69430637, 0.30368195, 0.3349535 , 0.02099432],\n",
       "       [0.51861145, 0.94134231, 0.20128019, 0.78966125, 0.76722335,\n",
       "        0.67963473, 0.69343772, 0.30330202, 0.33453445, 0.02096806],\n",
       "       [0.0749798 , 0.13609737, 0.02910068, 0.11416763, 0.1109236 ,\n",
       "        0.09826022, 0.10025583, 0.04385079, 0.04836631, 0.00303152],\n",
       "       [0.26833996, 0.48706938, 0.10414641, 0.40858656, 0.39697674,\n",
       "        0.35165663, 0.35879858, 0.15693454, 0.17309483, 0.01084929],\n",
       "       [0.31855528, 0.57821623, 0.12363566, 0.48504667, 0.47126426,\n",
       "        0.41746326, 0.4259417 , 0.18630221, 0.20548662, 0.01287956],\n",
       "       [0.09196297, 0.16692387, 0.03569208, 0.14002697, 0.13604816,\n",
       "        0.12051648, 0.1229641 , 0.05378314, 0.05932144, 0.00371817],\n",
       "       [0.16572245, 0.30080623, 0.06431915, 0.2523365 , 0.24516646,\n",
       "        0.21717749, 0.22158824, 0.09692025, 0.10690059, 0.00670035]])"
      ]
     },
     "execution_count": 112,
     "metadata": {},
     "output_type": "execute_result"
    }
   ],
   "source": [
    "A = np.random.uniform(0,1,10)\n",
    "B = np.random.uniform(0,1,10)\n",
    "\n",
    "np.einsum('i->', A)       \n",
    "np.einsum('i,i->i', A, B) \n",
    "np.einsum('i,i', A, B)    \n",
    "np.einsum('i,j->ij', A, B)    "
   ]
  },
  {
   "cell_type": "markdown",
   "metadata": {},
   "source": [
    "#### 98. Considering a path described by two vectors (X,Y), how to sample it using equidistant samples (★★★)? \n",
    "(**hint**: np.cumsum, np.interp)"
   ]
  },
  {
   "cell_type": "code",
   "execution_count": 115,
   "metadata": {},
   "outputs": [],
   "source": [
    "phi = np.arange(0, 10*np.pi, 0.1)\n",
    "a = 1\n",
    "x = a*phi*np.cos(phi)\n",
    "y = a*phi*np.sin(phi)\n",
    "\n",
    "dr = (np.diff(x)**2 + np.diff(y)**2)**.5 \n",
    "r = np.zeros_like(x)\n",
    "r[1:] = np.cumsum(dr)                \n",
    "r_int = np.linspace(0, r.max(), 200) \n",
    "x_int = np.interp(r_int, r, x)       \n",
    "y_int = np.interp(r_int, r, y)"
   ]
  },
  {
   "cell_type": "markdown",
   "metadata": {},
   "source": [
    "#### 99. Given an integer n and a 2D array X, select from X the rows which can be interpreted as draws from a multinomial distribution with n degrees, i.e., the rows which only contain integers and which sum to n. (★★★) \n",
    "(**hint**: np.logical\\_and.reduce, np.mod)"
   ]
  },
  {
   "cell_type": "code",
   "execution_count": 116,
   "metadata": {},
   "outputs": [
    {
     "name": "stdout",
     "output_type": "stream",
     "text": [
      "[[2. 0. 1. 1.]]\n"
     ]
    }
   ],
   "source": [
    "X = np.asarray([[1.0, 0.0, 3.0, 8.0],\n",
    "                [2.0, 0.0, 1.0, 1.0],\n",
    "                [1.5, 2.5, 1.0, 0.0]])\n",
    "n = 4\n",
    "M = np.logical_and.reduce(np.mod(X, 1) == 0, axis=-1)\n",
    "M &= (X.sum(axis=-1) == n)\n",
    "print(X[M])"
   ]
  },
  {
   "cell_type": "markdown",
   "metadata": {},
   "source": [
    "#### 100. Compute bootstrapped 95% confidence intervals for the mean of a 1D array X (i.e., resample the elements of an array with replacement N times, compute the mean of each sample, and then compute percentiles over the means). (★★★) \n",
    "(**hint**: np.percentile)"
   ]
  },
  {
   "cell_type": "code",
   "execution_count": 117,
   "metadata": {},
   "outputs": [
    {
     "name": "stdout",
     "output_type": "stream",
     "text": [
      "[-0.10566465  0.31639189]\n"
     ]
    }
   ],
   "source": [
    "X = np.random.randn(100) # random 1D array\n",
    "N = 1000 # number of bootstrap samples\n",
    "idx = np.random.randint(0, X.size, (N, X.size))\n",
    "means = X[idx].mean(axis=1)\n",
    "confint = np.percentile(means, [2.5, 97.5])\n",
    "print(confint)"
   ]
  }
 ],
 "metadata": {
  "kernelspec": {
   "display_name": "Python 3 (ipykernel)",
   "language": "python",
   "name": "python3"
  },
  "language_info": {
   "codemirror_mode": {
    "name": "ipython",
    "version": 3
   },
   "file_extension": ".py",
   "mimetype": "text/x-python",
   "name": "python",
   "nbconvert_exporter": "python",
   "pygments_lexer": "ipython3",
   "version": "3.9.7"
  }
 },
 "nbformat": 4,
 "nbformat_minor": 1
}
